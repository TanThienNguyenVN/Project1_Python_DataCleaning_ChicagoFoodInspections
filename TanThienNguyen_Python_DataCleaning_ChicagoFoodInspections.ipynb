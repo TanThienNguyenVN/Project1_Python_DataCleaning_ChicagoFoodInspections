{
 "cells": [
  {
   "cell_type": "markdown",
   "id": "42aeabfd",
   "metadata": {},
   "source": [
    "# Import Counter and defaultdict module."
   ]
  },
  {
   "cell_type": "code",
   "execution_count": null,
   "id": "cc863e70",
   "metadata": {},
   "outputs": [],
   "source": [
    "from collections import Counter, defaultdict"
   ]
  },
  {
   "cell_type": "markdown",
   "id": "3c5ef1d2",
   "metadata": {},
   "source": [
    "# Import csv module."
   ]
  },
  {
   "cell_type": "code",
   "execution_count": null,
   "id": "08a17cbc",
   "metadata": {},
   "outputs": [],
   "source": [
    "import csv"
   ]
  },
  {
   "cell_type": "markdown",
   "id": "7a382503",
   "metadata": {},
   "source": [
    "# Open data file, convert data rows into dictionary type, and then put all of them into a list named food."
   ]
  },
  {
   "cell_type": "code",
   "execution_count": null,
   "id": "d42879c8",
   "metadata": {},
   "outputs": [],
   "source": [
    "food = list(csv.DictReader(open('Food_Inspections.csv')))"
   ]
  },
  {
   "cell_type": "markdown",
   "id": "6a577c98",
   "metadata": {},
   "source": [
    "# Check the length of food to see how much data in this list. We should do this to avoid rendering a huge amount of data in one go."
   ]
  },
  {
   "cell_type": "code",
   "execution_count": null,
   "id": "38206c4c",
   "metadata": {},
   "outputs": [],
   "source": [
    "len(food)"
   ]
  },
  {
   "cell_type": "markdown",
   "id": "739c3ec6",
   "metadata": {},
   "source": [
    "# Take a quick look at the first item in the list to see the structure of data, such as keys (columns) and values (rows)."
   ]
  },
  {
   "cell_type": "code",
   "execution_count": null,
   "id": "b98e7885",
   "metadata": {},
   "outputs": [],
   "source": [
    "food[0]"
   ]
  },
  {
   "cell_type": "markdown",
   "id": "3d23cad0",
   "metadata": {},
   "source": [
    "# Take a look at one more item in the list."
   ]
  },
  {
   "cell_type": "code",
   "execution_count": null,
   "id": "63b10e09",
   "metadata": {},
   "outputs": [],
   "source": [
    "food[1]"
   ]
  },
  {
   "cell_type": "markdown",
   "id": "e0ce3703",
   "metadata": {},
   "source": [
    "# Get a set of all possible unique outcomes of Results."
   ]
  },
  {
   "cell_type": "code",
   "execution_count": null,
   "id": "3daea024",
   "metadata": {},
   "outputs": [],
   "source": [
    "{row['Results'] for row in food}"
   ]
  },
  {
   "cell_type": "markdown",
   "id": "2310f206",
   "metadata": {},
   "source": [
    "# Get all rows in food if Results = 'Fail', and then put all of them into a list named fail."
   ]
  },
  {
   "cell_type": "code",
   "execution_count": null,
   "id": "19015979",
   "metadata": {},
   "outputs": [],
   "source": [
    "fail = [ row for row in food if row['Results'] == 'Fail']"
   ]
  },
  {
   "cell_type": "markdown",
   "id": "650b4f6f",
   "metadata": {},
   "source": [
    "# Check the length of fail."
   ]
  },
  {
   "cell_type": "code",
   "execution_count": null,
   "id": "0f776e08",
   "metadata": {},
   "outputs": [],
   "source": [
    "len(fail)"
   ]
  },
  {
   "cell_type": "markdown",
   "id": "ed2b99db",
   "metadata": {},
   "source": [
    "# Take a quick look at the first item in the list."
   ]
  },
  {
   "cell_type": "code",
   "execution_count": null,
   "id": "46dfa87a",
   "metadata": {},
   "outputs": [],
   "source": [
    "fail[0]"
   ]
  },
  {
   "cell_type": "markdown",
   "id": "66bfd1c3",
   "metadata": {},
   "source": [
    "# Now, we may come up with a question: what would be the worst place to eat in Chicago?"
   ]
  },
  {
   "cell_type": "markdown",
   "id": "a65228ca",
   "metadata": {},
   "source": [
    "# Firstly, we count the rows in fail by DBA Name (business name)."
   ]
  },
  {
   "cell_type": "code",
   "execution_count": null,
   "id": "58e70a5c",
   "metadata": {},
   "outputs": [],
   "source": [
    "worst = Counter(row['DBA Name'] for row in fail)"
   ]
  },
  {
   "cell_type": "markdown",
   "id": "0af57901",
   "metadata": {},
   "source": [
    "# Get the top 5 of the worst places to eat."
   ]
  },
  {
   "cell_type": "code",
   "execution_count": null,
   "id": "52ca80fb",
   "metadata": {},
   "outputs": [],
   "source": [
    "worst.most_common(5)"
   ]
  },
  {
   "cell_type": "markdown",
   "id": "22e29fb3",
   "metadata": {},
   "source": [
    "# Get the top 15 of the worst places to eat. There are some typing mistakes in DBA Name that need cleaning."
   ]
  },
  {
   "cell_type": "code",
   "execution_count": null,
   "id": "08f9d928",
   "metadata": {},
   "outputs": [],
   "source": [
    "worst.most_common(15)"
   ]
  },
  {
   "cell_type": "markdown",
   "id": "4ab695c5",
   "metadata": {},
   "source": [
    "# Create a new fail list of rows with DBA Name having single quote removed and being in upper case."
   ]
  },
  {
   "cell_type": "code",
   "execution_count": null,
   "id": "02c4a1a9",
   "metadata": {},
   "outputs": [],
   "source": [
    "fail = [ { **row, 'DBA Name': row['DBA Name'].replace(\"'\",'').upper()}\n",
    "             for row in fail]"
   ]
  },
  {
   "cell_type": "markdown",
   "id": "bf58dc35",
   "metadata": {},
   "source": [
    "# Count rows in fail by DBA Name again."
   ]
  },
  {
   "cell_type": "code",
   "execution_count": null,
   "id": "5f9352dc",
   "metadata": {},
   "outputs": [],
   "source": [
    "worst = Counter(row['DBA Name'] for row in fail)"
   ]
  },
  {
   "cell_type": "markdown",
   "id": "3f86df34",
   "metadata": {},
   "source": [
    "# Get the top 5 of the worst places to eat to see whether DBA Name are corrected or not."
   ]
  },
  {
   "cell_type": "code",
   "execution_count": null,
   "id": "d7015857",
   "metadata": {},
   "outputs": [],
   "source": [
    "worst.most_common(5)"
   ]
  },
  {
   "cell_type": "markdown",
   "id": "0f925cc4",
   "metadata": {},
   "source": [
    "# Get the top 15 of the worst places to eat to see whether DBA Name are corrected or not."
   ]
  },
  {
   "cell_type": "code",
   "execution_count": null,
   "id": "99faca91",
   "metadata": {},
   "outputs": [],
   "source": [
    "worst.most_common(20)"
   ]
  },
  {
   "cell_type": "markdown",
   "id": "c15abd37",
   "metadata": {},
   "source": [
    "# We got the worst places to eat. However, there is a lot of different Subway or McDonald. So, another kind of question we might come up with now is the worst street addresses to eat?"
   ]
  },
  {
   "cell_type": "markdown",
   "id": "846797cd",
   "metadata": {},
   "source": [
    "# We could count the rows in fail by Address."
   ]
  },
  {
   "cell_type": "code",
   "execution_count": null,
   "id": "6b07c900",
   "metadata": {},
   "outputs": [],
   "source": [
    "bad = Counter(row['Address'] for row in fail)"
   ]
  },
  {
   "cell_type": "markdown",
   "id": "b89061b3",
   "metadata": {},
   "source": [
    "# Get the top 5 of the worst addresses to eat."
   ]
  },
  {
   "cell_type": "code",
   "execution_count": null,
   "id": "90677b54",
   "metadata": {},
   "outputs": [],
   "source": [
    "bad.most_common(5)"
   ]
  },
  {
   "cell_type": "markdown",
   "id": "f12c456a",
   "metadata": {},
   "source": [
    "# We also want to see what are the worst addresses to eat by year?"
   ]
  },
  {
   "cell_type": "markdown",
   "id": "d3e0de57",
   "metadata": {},
   "source": [
    "# Create a default dictionary of counter by_year."
   ]
  },
  {
   "cell_type": "code",
   "execution_count": null,
   "id": "f5fc5688",
   "metadata": {},
   "outputs": [],
   "source": [
    "by_year = defaultdict(Counter)"
   ]
  },
  {
   "cell_type": "markdown",
   "id": "f875156d",
   "metadata": {},
   "source": [
    "# Count the rows in fail by Address in each year."
   ]
  },
  {
   "cell_type": "code",
   "execution_count": null,
   "id": "acf193ec",
   "metadata": {},
   "outputs": [],
   "source": [
    "for row in fail:\n",
    "    by_year[row['Inspection Date'][-4:]][row['Address']] +=1"
   ]
  },
  {
   "cell_type": "markdown",
   "id": "94098980",
   "metadata": {},
   "source": [
    "# Get the top 5 of the worst street Addresses in some years."
   ]
  },
  {
   "cell_type": "code",
   "execution_count": null,
   "id": "01949f54",
   "metadata": {},
   "outputs": [],
   "source": [
    "by_year['2015'].most_common(5)"
   ]
  },
  {
   "cell_type": "code",
   "execution_count": null,
   "id": "89406906",
   "metadata": {},
   "outputs": [],
   "source": [
    "by_year['2014'].most_common(5)"
   ]
  },
  {
   "cell_type": "code",
   "execution_count": null,
   "id": "6b141f31",
   "metadata": {},
   "outputs": [],
   "source": [
    "by_year['2013'].most_common(5)"
   ]
  },
  {
   "cell_type": "code",
   "execution_count": null,
   "id": "c5b79e36",
   "metadata": {},
   "outputs": [],
   "source": [
    "by_year['2016'].most_common(5)"
   ]
  },
  {
   "cell_type": "code",
   "execution_count": null,
   "id": "2ee7eadc",
   "metadata": {},
   "outputs": [],
   "source": [
    "by_year['2021'].most_common(5)"
   ]
  },
  {
   "cell_type": "code",
   "execution_count": null,
   "id": "6c93ae9a",
   "metadata": {},
   "outputs": [],
   "source": [
    "by_year['2020'].most_common(5)"
   ]
  },
  {
   "cell_type": "code",
   "execution_count": null,
   "id": "94144c1a",
   "metadata": {},
   "outputs": [],
   "source": [
    "by_year['2019'].most_common(5)"
   ]
  },
  {
   "cell_type": "markdown",
   "id": "3f7781dc",
   "metadata": {},
   "source": [
    "# We got that '11601 W TOUHY AVE' seems to be the worst street address. \n",
    "# Now, we get the top 5 of worst addresses to eat again."
   ]
  },
  {
   "cell_type": "code",
   "execution_count": null,
   "id": "8e6e6329",
   "metadata": {},
   "outputs": [],
   "source": [
    "bad.most_common(5)"
   ]
  },
  {
   "cell_type": "markdown",
   "id": "04707795",
   "metadata": {},
   "source": [
    "# Call the result of the last expression. Aim to get the worst address."
   ]
  },
  {
   "cell_type": "code",
   "execution_count": null,
   "id": "8e777482",
   "metadata": {},
   "outputs": [],
   "source": [
    "_[0][0]"
   ]
  },
  {
   "cell_type": "markdown",
   "id": "e50b3be0",
   "metadata": {},
   "source": [
    "# Get the id of the result of the last expression. Aim to get the id of the worst address."
   ]
  },
  {
   "cell_type": "code",
   "execution_count": null,
   "id": "2feae2b1",
   "metadata": {},
   "outputs": [],
   "source": [
    "id(_)"
   ]
  },
  {
   "cell_type": "markdown",
   "id": "cd67a082",
   "metadata": {},
   "source": [
    "# Create a list named ohare to store all rows in fail with Address start with '11601 W TOUHY'."
   ]
  },
  {
   "cell_type": "code",
   "execution_count": null,
   "id": "69848ade",
   "metadata": {},
   "outputs": [],
   "source": [
    "ohare = [row for row in fail if row['Address'].startswith('11601 W TOUHY')]"
   ]
  },
  {
   "cell_type": "markdown",
   "id": "78bd08a1",
   "metadata": {},
   "source": [
    "# Check the length of ohare."
   ]
  },
  {
   "cell_type": "code",
   "execution_count": null,
   "id": "2aeaf2ee",
   "metadata": {},
   "outputs": [],
   "source": [
    "len(ohare)"
   ]
  },
  {
   "cell_type": "markdown",
   "id": "18992b4a",
   "metadata": {},
   "source": [
    "# Get a set of all different unique addresses in ohare. "
   ]
  },
  {
   "cell_type": "code",
   "execution_count": null,
   "id": "4049ba7e",
   "metadata": {},
   "outputs": [],
   "source": [
    "{ row['Address'] for row in ohare }"
   ]
  },
  {
   "cell_type": "markdown",
   "id": "cd457dc6",
   "metadata": {},
   "source": [
    "# Get a set of all unique businesses in ohare."
   ]
  },
  {
   "cell_type": "code",
   "execution_count": null,
   "id": "4235d903",
   "metadata": {},
   "outputs": [],
   "source": [
    "{ row['DBA Name'] for row in ohare}"
   ]
  },
  {
   "cell_type": "markdown",
   "id": "f32f0038",
   "metadata": {},
   "source": [
    "# Take a look at the first item in ohare list. Aim to check DBA Name (Business Name) and AKA Name (Public name)"
   ]
  },
  {
   "cell_type": "code",
   "execution_count": null,
   "id": "4f029241",
   "metadata": {},
   "outputs": [],
   "source": [
    "ohare[0]"
   ]
  },
  {
   "cell_type": "markdown",
   "id": "a9e2bceb",
   "metadata": {},
   "source": [
    "# Count the rows in ohare by AKA Name to identify the worst location in ohare to eat."
   ]
  },
  {
   "cell_type": "code",
   "execution_count": null,
   "id": "93a24c62",
   "metadata": {},
   "outputs": [],
   "source": [
    "c = Counter(row['AKA Name'] for row in ohare)"
   ]
  },
  {
   "cell_type": "markdown",
   "id": "8e2cfdb6",
   "metadata": {},
   "source": [
    "# Get the top 10 of the worst location in ohare."
   ]
  },
  {
   "cell_type": "code",
   "execution_count": null,
   "id": "784fcf48",
   "metadata": {},
   "outputs": [],
   "source": [
    "c.most_common(10)"
   ]
  },
  {
   "cell_type": "markdown",
   "id": "e263e22b",
   "metadata": {},
   "source": [
    "# Take a look at the first item of ohare."
   ]
  },
  {
   "cell_type": "code",
   "execution_count": null,
   "id": "948053d3",
   "metadata": {},
   "outputs": [],
   "source": [
    "ohare[0]"
   ]
  },
  {
   "cell_type": "markdown",
   "id": "d62512c3",
   "metadata": {},
   "source": [
    "# Next, we may want to do some more exploratory."
   ]
  },
  {
   "cell_type": "markdown",
   "id": "a541d769",
   "metadata": {},
   "source": [
    "# Create inspections default dictionary."
   ]
  },
  {
   "cell_type": "code",
   "execution_count": null,
   "id": "148c3edf",
   "metadata": {},
   "outputs": [],
   "source": [
    "inspections = defaultdict(list)"
   ]
  },
  {
   "cell_type": "markdown",
   "id": "b1ad74a8",
   "metadata": {},
   "source": [
    "# Add rows in ohare into inspections dictionary as values, and keys are License #."
   ]
  },
  {
   "cell_type": "code",
   "execution_count": null,
   "id": "ef013230",
   "metadata": {},
   "outputs": [],
   "source": [
    "for row in ohare:\n",
    "    inspections[row['License #']].append(row)"
   ]
  },
  {
   "cell_type": "markdown",
   "id": "bf024ff8",
   "metadata": {},
   "source": [
    "# Get data from inspections dictionary by using License # = 2428080."
   ]
  },
  {
   "cell_type": "code",
   "execution_count": null,
   "id": "15677dbe",
   "metadata": {},
   "outputs": [],
   "source": [
    "inspections['2428080']"
   ]
  },
  {
   "cell_type": "markdown",
   "id": "1ff8426d",
   "metadata": {},
   "source": [
    "# Get all keys in inspections dictionary."
   ]
  },
  {
   "cell_type": "code",
   "execution_count": null,
   "id": "16eeddb2",
   "metadata": {},
   "outputs": [],
   "source": [
    "inspections.keys()"
   ]
  },
  {
   "cell_type": "markdown",
   "id": "55432c6a",
   "metadata": {},
   "source": [
    "# Try to get data from inspections dictionary by using another License # = 34192."
   ]
  },
  {
   "cell_type": "code",
   "execution_count": null,
   "id": "1bf8006e",
   "metadata": {},
   "outputs": [],
   "source": [
    "inspections['34192']"
   ]
  },
  {
   "cell_type": "markdown",
   "id": "c7a19c5f",
   "metadata": {},
   "source": [
    "# Get all Inspection Dates from the date set of License # = 34192."
   ]
  },
  {
   "cell_type": "code",
   "execution_count": null,
   "id": "7795e2ee",
   "metadata": {},
   "outputs": [],
   "source": [
    "[row ['Inspection Date'] for row in inspections['34192']]"
   ]
  },
  {
   "cell_type": "markdown",
   "id": "df955439",
   "metadata": {},
   "source": [
    "# The question maybe now is What is the most common way that a place at ohare fails in an inspection. \n",
    "# Firstly, we take a look at an example of the Violations data."
   ]
  },
  {
   "cell_type": "code",
   "execution_count": null,
   "id": "13c8846f",
   "metadata": {},
   "outputs": [],
   "source": [
    "ohare[175]"
   ]
  },
  {
   "cell_type": "markdown",
   "id": "b2f81437",
   "metadata": {},
   "source": [
    "# List out all of the different sections in Violations by decomposing the text."
   ]
  },
  {
   "cell_type": "code",
   "execution_count": null,
   "id": "ab4aaae7",
   "metadata": {},
   "outputs": [],
   "source": [
    "ohare[175]['Violations'].split('|')"
   ]
  },
  {
   "cell_type": "markdown",
   "id": "7f01ca1c",
   "metadata": {},
   "source": [
    "# Assign the result of the last expression to violations variable."
   ]
  },
  {
   "cell_type": "code",
   "execution_count": null,
   "id": "46839a01",
   "metadata": {},
   "outputs": [],
   "source": [
    "violations = _"
   ]
  },
  {
   "cell_type": "code",
   "execution_count": null,
   "id": "5c62f406",
   "metadata": {},
   "outputs": [],
   "source": [
    "violations"
   ]
  },
  {
   "cell_type": "markdown",
   "id": "59165746",
   "metadata": {},
   "source": [
    "# Strip out all the text after '- Comments' from Violation sections."
   ]
  },
  {
   "cell_type": "code",
   "execution_count": null,
   "id": "2ce0431c",
   "metadata": {},
   "outputs": [],
   "source": [
    "[v[:v.find('- Comments:')] for v in violations]"
   ]
  },
  {
   "cell_type": "markdown",
   "id": "04521588",
   "metadata": {},
   "source": [
    "# Strip out the comment part and white space from Violation sections."
   ]
  },
  {
   "cell_type": "code",
   "execution_count": null,
   "id": "2af1be5d",
   "metadata": {},
   "outputs": [],
   "source": [
    "[v[:v.find('- Comments:')].strip() for v in violations]"
   ]
  },
  {
   "cell_type": "markdown",
   "id": "6f2159b7",
   "metadata": {},
   "source": [
    "# Next, we could get all Violation sections splitted by '|' in ohare."
   ]
  },
  {
   "cell_type": "code",
   "execution_count": null,
   "id": "012791a2",
   "metadata": {},
   "outputs": [],
   "source": [
    "all_violations = [row['Violations'].split('|') for row in ohare]"
   ]
  },
  {
   "cell_type": "markdown",
   "id": "7fd5904f",
   "metadata": {},
   "source": [
    "# Then, we count all rows in ohare by Violations with comments stripped out."
   ]
  },
  {
   "cell_type": "code",
   "execution_count": null,
   "id": "13b4fdcd",
   "metadata": {},
   "outputs": [],
   "source": [
    "c = Counter()"
   ]
  },
  {
   "cell_type": "code",
   "execution_count": null,
   "id": "d47e016f",
   "metadata": {},
   "outputs": [],
   "source": [
    "for violations in all_violations:\n",
    "    for v in violations:\n",
    "        c[v[:v.find('- Comments:')].strip()] +=1"
   ]
  },
  {
   "cell_type": "markdown",
   "id": "828a9aca",
   "metadata": {},
   "source": [
    "# Finally, we find out what are the most common violations in ohare."
   ]
  },
  {
   "cell_type": "code",
   "execution_count": null,
   "id": "8597e040",
   "metadata": {},
   "outputs": [],
   "source": [
    "c.most_common(5)"
   ]
  }
 ],
 "metadata": {
  "kernelspec": {
   "display_name": "Python 3 (ipykernel)",
   "language": "python",
   "name": "python3"
  },
  "language_info": {
   "codemirror_mode": {
    "name": "ipython",
    "version": 3
   },
   "file_extension": ".py",
   "mimetype": "text/x-python",
   "name": "python",
   "nbconvert_exporter": "python",
   "pygments_lexer": "ipython3",
   "version": "3.9.7"
  }
 },
 "nbformat": 4,
 "nbformat_minor": 5
}
