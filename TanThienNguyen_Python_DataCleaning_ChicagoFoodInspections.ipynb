{
 "cells": [
  {
   "cell_type": "markdown",
   "id": "48b7e981",
   "metadata": {},
   "source": [
    "### Motivation\n",
    "- In this notebook, I will practice the basics of Python using Python's built-in data structures: lists, dictionaries, tuples and sets using an online tutorial video https://www.youtube.com/watch?v=j6VSAsKAj98 made by David Beazley at the talk from the 2016 PyData Conference in Chicago, USA as a reference.\n",
    "\n",
    "- This basic notebook will help me to see how Python can be used to automate powerful data manipulations with quite big data source excel file (~250MB)\n",
    "\n",
    "- There are some changes being made to retrieve more information."
   ]
  },
  {
   "cell_type": "markdown",
   "id": "42aeabfd",
   "metadata": {},
   "source": [
    "#### Import libraries"
   ]
  },
  {
   "cell_type": "code",
   "execution_count": 1,
   "id": "cc863e70",
   "metadata": {},
   "outputs": [],
   "source": [
    "from collections import Counter, defaultdict\n",
    "import csv"
   ]
  },
  {
   "cell_type": "markdown",
   "id": "7a382503",
   "metadata": {},
   "source": [
    "#### Open data file, convert data rows into dictionary type, and then put all of them into a list named food."
   ]
  },
  {
   "cell_type": "code",
   "execution_count": 2,
   "id": "d42879c8",
   "metadata": {},
   "outputs": [],
   "source": [
    "food = list(csv.DictReader(open('Food_Inspections.csv')))"
   ]
  },
  {
   "cell_type": "markdown",
   "id": "6a577c98",
   "metadata": {},
   "source": [
    "##### Check the length of food to see how much data in this list. We should do this to avoid rendering a huge amount of data in one go."
   ]
  },
  {
   "cell_type": "code",
   "execution_count": 3,
   "id": "38206c4c",
   "metadata": {},
   "outputs": [
    {
     "data": {
      "text/plain": [
       "224799"
      ]
     },
     "execution_count": 3,
     "metadata": {},
     "output_type": "execute_result"
    }
   ],
   "source": [
    "len(food)"
   ]
  },
  {
   "cell_type": "markdown",
   "id": "739c3ec6",
   "metadata": {},
   "source": [
    "#### Take a quick look at the first item in the list to see the structure of data, such as keys (columns) and values (rows)."
   ]
  },
  {
   "cell_type": "code",
   "execution_count": 4,
   "id": "b98e7885",
   "metadata": {},
   "outputs": [
    {
     "data": {
      "text/plain": [
       "{'Inspection ID': '2522989',\n",
       " 'DBA Name': 'IPSENTO',\n",
       " 'AKA Name': 'IPSENTO',\n",
       " 'License #': '1741994',\n",
       " 'Facility Type': 'Restaurant',\n",
       " 'Risk': 'Risk 2 (Medium)',\n",
       " 'Address': '2035 N WESTERN AVE ',\n",
       " 'City': 'CHICAGO',\n",
       " 'State': 'IL',\n",
       " 'Zip': '60647',\n",
       " 'Inspection Date': '07/21/2021',\n",
       " 'Inspection Type': 'Canvass',\n",
       " 'Results': 'Out of Business',\n",
       " 'Violations': '',\n",
       " 'Latitude': '41.918574636596254',\n",
       " 'Longitude': '-87.68729592769105',\n",
       " 'Location': '(-87.68729592769105, 41.918574636596254)'}"
      ]
     },
     "execution_count": 4,
     "metadata": {},
     "output_type": "execute_result"
    }
   ],
   "source": [
    "food[0]"
   ]
  },
  {
   "cell_type": "markdown",
   "id": "3d23cad0",
   "metadata": {},
   "source": [
    "#### Take a look at one more item in the list."
   ]
  },
  {
   "cell_type": "code",
   "execution_count": 5,
   "id": "63b10e09",
   "metadata": {},
   "outputs": [
    {
     "data": {
      "text/plain": [
       "{'Inspection ID': '2522162',\n",
       " 'DBA Name': 'FLAT GRILL',\n",
       " 'AKA Name': 'FLAT GRILL',\n",
       " 'License #': '2753823',\n",
       " 'Facility Type': 'Restaurant',\n",
       " 'Risk': 'Risk 1 (High)',\n",
       " 'Address': '2200 W TAYLOR ',\n",
       " 'City': 'CHICAGO',\n",
       " 'State': 'IL',\n",
       " 'Zip': '60612',\n",
       " 'Inspection Date': '06/30/2021',\n",
       " 'Inspection Type': 'Canvass',\n",
       " 'Results': 'Out of Business',\n",
       " 'Violations': '',\n",
       " 'Latitude': '41.86914817242202',\n",
       " 'Longitude': '-87.68152576167911',\n",
       " 'Location': '(-87.68152576167911, 41.86914817242202)'}"
      ]
     },
     "execution_count": 5,
     "metadata": {},
     "output_type": "execute_result"
    }
   ],
   "source": [
    "food[1]"
   ]
  },
  {
   "cell_type": "markdown",
   "id": "e0ce3703",
   "metadata": {},
   "source": [
    "#### Get a set of all possible unique outcomes of Results."
   ]
  },
  {
   "cell_type": "code",
   "execution_count": 6,
   "id": "3daea024",
   "metadata": {},
   "outputs": [
    {
     "data": {
      "text/plain": [
       "{'Business Not Located',\n",
       " 'Fail',\n",
       " 'No Entry',\n",
       " 'Not Ready',\n",
       " 'Out of Business',\n",
       " 'Pass',\n",
       " 'Pass w/ Conditions'}"
      ]
     },
     "execution_count": 6,
     "metadata": {},
     "output_type": "execute_result"
    }
   ],
   "source": [
    "{row['Results'] for row in food}"
   ]
  },
  {
   "cell_type": "markdown",
   "id": "2310f206",
   "metadata": {},
   "source": [
    "#### Get all rows in food if Results = 'Fail', and then put all of them into a list named fail."
   ]
  },
  {
   "cell_type": "code",
   "execution_count": 7,
   "id": "19015979",
   "metadata": {},
   "outputs": [],
   "source": [
    "fail = [ row for row in food if row['Results'] == 'Fail']"
   ]
  },
  {
   "cell_type": "markdown",
   "id": "650b4f6f",
   "metadata": {},
   "source": [
    "#### Check the length of fail."
   ]
  },
  {
   "cell_type": "code",
   "execution_count": 8,
   "id": "0f776e08",
   "metadata": {},
   "outputs": [
    {
     "data": {
      "text/plain": [
       "43370"
      ]
     },
     "execution_count": 8,
     "metadata": {},
     "output_type": "execute_result"
    }
   ],
   "source": [
    "len(fail)"
   ]
  },
  {
   "cell_type": "markdown",
   "id": "ed2b99db",
   "metadata": {},
   "source": [
    "#### Take a quick look at the first item in the list."
   ]
  },
  {
   "cell_type": "code",
   "execution_count": 9,
   "id": "46dfa87a",
   "metadata": {},
   "outputs": [
    {
     "data": {
      "text/plain": [
       "{'Inspection ID': '2387078',\n",
       " 'DBA Name': 'DINNER AND A MOVIE',\n",
       " 'AKA Name': 'DINNER AND A MOVIE',\n",
       " 'License #': '2749481',\n",
       " 'Facility Type': 'Restaurant',\n",
       " 'Risk': 'Risk 1 (High)',\n",
       " 'Address': '2500 N ASHLAND AVE ',\n",
       " 'City': 'CHICAGO',\n",
       " 'State': 'IL',\n",
       " 'Zip': '60614',\n",
       " 'Inspection Date': '09/11/2020',\n",
       " 'Inspection Type': 'License',\n",
       " 'Results': 'Fail',\n",
       " 'Violations': \"3. MANAGEMENT, FOOD EMPLOYEE AND CONDITIONAL EMPLOYEE; KNOWLEDGE, RESPONSIBILITIES AND REPORTING - Comments:  FOUND NO EMPLOYEE HEALTH POLICY/TRAINING ON SITE. INSTRUCTED FACILITY TO ESTABLISH AN APPROPRIATE EMPLOYEE HEALTH POLICY/TRAINING SYSTEM AND MAINTAIN WITH VERIFIABLE DOCUMENTS ON SITE. PRIORITY FOUNDATION VIOLATION 7-38-010. NO CITATION ISSUED. | 5. PROCEDURES FOR RESPONDING TO VOMITING AND DIARRHEAL EVENTS - Comments:  FOUND NO PROCEDURE/PLAN AND KIT FOR RESPONDING TO VOMITING AND DIARRHEAL EVENTS. INSTRUCTED FACILITY TO DEVELOP AND MAINTAIN A PROCEDURE/PLAN AND TO MAINTAIN ANY APPROPRIATE SUPPLIES ON SITE. PRIORITY FOUNDATION VIOLATION 7-38-005.  NO CITATION ISSUED | 10. ADEQUATE HANDWASHING SINKS PROPERLY SUPPLIED AND ACCESSIBLE - Comments:  AN HANDWASHING SINK INSTALLED AT  EAST BAR AREA.NEED TO RELOCATE HANDWASHING SINK AT MIDDLE OF AREA  BEHIND THE BAR COUNTER FOR  ACCESSIBILITY TO HAND WASHING.  PRIORITY FOUNDATION VIOLATION :7-38-030(C), NO CITATION ISSUED.  | 47. FOOD & NON-FOOD CONTACT SURFACES CLEANABLE, PROPERLY DESIGNED, CONSTRUCTED & USED - Comments: POP GUNS INSTALLED ABOVE THE ICE BINS MUST BE RELOCATED.   DRAIN HOSE FROM POP GUN DISPENSER MUST BE DRAIN ON FLOOR DRAIN. | 47. FOOD & NON-FOOD CONTACT SURFACES CLEANABLE, PROPERLY DESIGNED, CONSTRUCTED & USED - Comments: RAW WOOD UNDER THE BAR COUNTER  AND BY THE THREE COMPARTMENT SINK AND ALSO SHELVES IN BASEMENT AREA(FOR LIQUOR)NOT CLEANABLE.SURFACE MUST BE SMOOTH,CLEANABLE AND NON-ABSORBENT SURFACE BROKEN WOOD DOOR AT WOMEN'S WASHROOM IN BASEMENT MUST BE REPLACED. | 48. WAREWASHING FACILITIES: INSTALLED, MAINTAINED & USED; TEST STRIPS - Comments: NO CHEMICAL TEST STRIPS ON SITE TO  BE ABLE TO CHECK SANITIZING LEVELS FOR THE BAR THREE COMPARTMENT SINK  AT BAR AND KITCHEN. MUST PROVIDE CHEMICAL TEST STRIPS ACCORDING TO SANITIZER SOLUTION.  PRIORITY FOUNDATION VIOLATION 7-38-005 NO CITATION ISSUED. | 49. NON-FOOD/FOOD CONTACT SURFACES CLEAN - Comments:  INTERIOR AND EXTERIOR OF COOKING EQUIPMENT  INCLUDED DEEP FRYER  WITH EXCESS GREASE INSTRUCTED TO CLEAN AND MAINTAIN | 50. HOT & COLD WATER AVAILABLE; ADEQUATE PRESSURE - Comments: NO HOT WATER PROVIDED THROUGHOUT THE PREMISES. HAND WASHING SINK WATER TEMP OF 84.6F; WASHBOWLS AT ALL WASHROOM 81.4F TO 81.5F. THREE COMPARTMENT SINKS 81.7F. MUST PROVIDE HOT WATER THROUGHOUT. MINIMUM OF 100F AND THREE COMPARTMENT SINKS AT 110F PRIORITY VIOLATION:7-38-030(C) NO CITATION ISSUED | 51. PLUMBING INSTALLED; PROPER BACKFLOW DEVICES - Comments:  NO BACK FLOW PREVENTION DEVICE PROVIDED AT  ICE MACHINE WATER LINE IN BASEMENT AREA. MUST INSTALL  OR KNOW THE LOCATION SO BACK FLOW PREVENTION DEVICE MAY BE LOCATED TO BE SERVICED AND MAINTAIN. | 53. TOILET FACILITIES: PROPERLY CONSTRUCTED, SUPPLIED, & CLEANED - Comments: NO LIDS PROVIDED AT RECEPTACLE IN WOMEN'S WASHROOM.INSTRUCTED TO PROVIDE. | 53. TOILET FACILITIES: PROPERLY CONSTRUCTED, SUPPLIED, & CLEANED - Comments: UNABLE TO CHECK WASHROOM AT FIRST FLOOR SECOND DINING AREA. STRONG  FOUL ODOR OF URINE. INSTRUCTED TO CLEAN AND MAINTAIN | 55. PHYSICAL FACILITIES INSTALLED, MAINTAINED & CLEAN - Comments: ROUGH CEMENT FLOOR  AREA  IN BASEMENT BY THE LIQUOR STORAGE,UNDER THE SODA BOXES. BROKEN WALL AN STAIRCASE BY THE BAR GOING IN BASEMENT.MOST OF THE WALLS IN BASEMENT STORAGE AREA(ICE MACHINE,SODA BOXES,CHEST FREEZERS ETC),WITH PEELING PAINT,AND BRICKS CRUMBLE TO TOUCH. SURFACE  MUST BE SMOOTH CLEANABLE AND NON-ABSORBENT SURFACE | 56. ADEQUATE VENTILATION & LIGHTING; DESIGNATED AREAS USED - Comments: BROKEN LIGHT SHIELD IN THE KITCHEN,REPLACE.ALSO CLEAN UNKNOWN PARTICLES AND DRY FOOD FROM THE OTHER PROTECTIVE SHIELDS | 58. ALLERGEN TRAINING AS REQUIRED - Comments: NO ALLERGEN TRAINING CERTIFICATES PROVIDED ON SITE. INSTRUCTED TO PROVIDE FOR ALL CERTIFIED FOOD SERVICE MANAGERS\",\n",
       " 'Latitude': '41.92705136177427',\n",
       " 'Longitude': '-87.66835947589291',\n",
       " 'Location': '(-87.66835947589291, 41.92705136177427)'}"
      ]
     },
     "execution_count": 9,
     "metadata": {},
     "output_type": "execute_result"
    }
   ],
   "source": [
    "fail[0]"
   ]
  },
  {
   "cell_type": "markdown",
   "id": "66bfd1c3",
   "metadata": {},
   "source": [
    "### Now, we may come up with a question: what would be the worst place to eat in Chicago?"
   ]
  },
  {
   "cell_type": "markdown",
   "id": "a65228ca",
   "metadata": {},
   "source": [
    "#### Firstly, we count the rows in fail by DBA Name (business name)."
   ]
  },
  {
   "cell_type": "code",
   "execution_count": 10,
   "id": "58e70a5c",
   "metadata": {},
   "outputs": [],
   "source": [
    "worst = Counter(row['DBA Name'] for row in fail)"
   ]
  },
  {
   "cell_type": "markdown",
   "id": "0af57901",
   "metadata": {},
   "source": [
    "#### Get the top 5 of the worst places to eat."
   ]
  },
  {
   "cell_type": "code",
   "execution_count": 11,
   "id": "52ca80fb",
   "metadata": {},
   "outputs": [
    {
     "data": {
      "text/plain": [
       "[('SUBWAY', 384),\n",
       " ('DUNKIN DONUTS', 238),\n",
       " (\"MCDONALD'S\", 120),\n",
       " ('7-ELEVEN', 71),\n",
       " ('MCDONALDS', 60)]"
      ]
     },
     "execution_count": 11,
     "metadata": {},
     "output_type": "execute_result"
    }
   ],
   "source": [
    "worst.most_common(5)"
   ]
  },
  {
   "cell_type": "markdown",
   "id": "22e29fb3",
   "metadata": {},
   "source": [
    "#### Get the top 15 of the worst places to eat. There are some typing mistakes in DBA Name that need cleaning."
   ]
  },
  {
   "cell_type": "code",
   "execution_count": 12,
   "id": "08f9d928",
   "metadata": {},
   "outputs": [
    {
     "data": {
      "text/plain": [
       "[('SUBWAY', 384),\n",
       " ('DUNKIN DONUTS', 238),\n",
       " (\"MCDONALD'S\", 120),\n",
       " ('7-ELEVEN', 71),\n",
       " ('MCDONALDS', 60),\n",
       " ('CITGO', 57),\n",
       " ('POTBELLY SANDWICH WORKS LLC', 56),\n",
       " ('LAS ISLAS MARIAS', 50),\n",
       " ('DUNKIN DONUTS/BASKIN ROBBINS', 50),\n",
       " (\"HAROLD'S CHICKEN SHACK\", 49),\n",
       " ('CHIPOTLE MEXICAN GRILL', 48),\n",
       " ('JIMMY JOHNS', 41),\n",
       " ('POTBELLY SANDWICH WORKS', 40),\n",
       " (\"PAPA JOHN'S PIZZA\", 38),\n",
       " ('FRESHII', 38)]"
      ]
     },
     "execution_count": 12,
     "metadata": {},
     "output_type": "execute_result"
    }
   ],
   "source": [
    "worst.most_common(15)"
   ]
  },
  {
   "cell_type": "markdown",
   "id": "4ab695c5",
   "metadata": {},
   "source": [
    "#### Create a new fail list of rows with DBA Name having single quote removed and being in upper case."
   ]
  },
  {
   "cell_type": "code",
   "execution_count": 13,
   "id": "02c4a1a9",
   "metadata": {},
   "outputs": [],
   "source": [
    "fail = [ { **row, 'DBA Name': row['DBA Name'].replace(\"'\",'').upper()}\n",
    "             for row in fail]"
   ]
  },
  {
   "cell_type": "markdown",
   "id": "bf58dc35",
   "metadata": {},
   "source": [
    "#### Count rows in fail by DBA Name again."
   ]
  },
  {
   "cell_type": "code",
   "execution_count": 14,
   "id": "5f9352dc",
   "metadata": {},
   "outputs": [],
   "source": [
    "worst = Counter(row['DBA Name'] for row in fail)"
   ]
  },
  {
   "cell_type": "markdown",
   "id": "3f86df34",
   "metadata": {},
   "source": [
    "#### Get the top 5 of the worst places to eat to see whether DBA Name are corrected or not."
   ]
  },
  {
   "cell_type": "code",
   "execution_count": 15,
   "id": "d7015857",
   "metadata": {},
   "outputs": [
    {
     "data": {
      "text/plain": [
       "[('SUBWAY', 413),\n",
       " ('DUNKIN DONUTS', 259),\n",
       " ('MCDONALDS', 232),\n",
       " ('7-ELEVEN', 80),\n",
       " ('JIMMY JOHNS', 72)]"
      ]
     },
     "execution_count": 15,
     "metadata": {},
     "output_type": "execute_result"
    }
   ],
   "source": [
    "worst.most_common(5)"
   ]
  },
  {
   "cell_type": "markdown",
   "id": "0f925cc4",
   "metadata": {},
   "source": [
    "#### Get the top 15 of the worst places to eat to see whether DBA Name are corrected or not."
   ]
  },
  {
   "cell_type": "code",
   "execution_count": 16,
   "id": "99faca91",
   "metadata": {},
   "outputs": [
    {
     "data": {
      "text/plain": [
       "[('SUBWAY', 413),\n",
       " ('DUNKIN DONUTS', 259),\n",
       " ('MCDONALDS', 232),\n",
       " ('7-ELEVEN', 80),\n",
       " ('JIMMY JOHNS', 72),\n",
       " ('CHIPOTLE MEXICAN GRILL', 70),\n",
       " ('CITGO', 57),\n",
       " ('POTBELLY SANDWICH WORKS LLC', 56),\n",
       " ('DUNKIN DONUTS/BASKIN ROBBINS', 51),\n",
       " ('LAS ISLAS MARIAS', 50),\n",
       " ('HAROLDS CHICKEN SHACK', 50),\n",
       " ('PAPA JOHNS PIZZA', 45),\n",
       " ('SUBWAY SANDWICHES', 45),\n",
       " ('POPEYES', 41),\n",
       " ('POTBELLY SANDWICH WORKS', 40),\n",
       " ('MC DONALDS', 39),\n",
       " ('FRESHII', 38),\n",
       " ('DUNKIN DONUTS / BASKIN ROBBINS', 35),\n",
       " ('KFC', 35),\n",
       " ('DOMINOS PIZZA', 35)]"
      ]
     },
     "execution_count": 16,
     "metadata": {},
     "output_type": "execute_result"
    }
   ],
   "source": [
    "worst.most_common(20)"
   ]
  },
  {
   "cell_type": "markdown",
   "id": "c15abd37",
   "metadata": {},
   "source": [
    "#### We got the worst places to eat. However, there is a lot of different Subway or McDonald. So, another kind of question we might come up with now is the worst street addresses to eat?"
   ]
  },
  {
   "cell_type": "markdown",
   "id": "846797cd",
   "metadata": {},
   "source": [
    "#### We could count the rows in fail by Address."
   ]
  },
  {
   "cell_type": "code",
   "execution_count": 17,
   "id": "6b07c900",
   "metadata": {},
   "outputs": [],
   "source": [
    "bad = Counter(row['Address'] for row in fail)"
   ]
  },
  {
   "cell_type": "markdown",
   "id": "b89061b3",
   "metadata": {},
   "source": [
    "#### Get the top 5 of the worst addresses to eat."
   ]
  },
  {
   "cell_type": "code",
   "execution_count": 18,
   "id": "90677b54",
   "metadata": {},
   "outputs": [
    {
     "data": {
      "text/plain": [
       "[('11601 W TOUHY AVE ', 351),\n",
       " ('2300 S THROOP ST ', 119),\n",
       " ('324 N LEAVITT ST ', 91),\n",
       " ('500 W MADISON ST ', 83),\n",
       " ('5700 S CICERO AVE ', 64)]"
      ]
     },
     "execution_count": 18,
     "metadata": {},
     "output_type": "execute_result"
    }
   ],
   "source": [
    "bad.most_common(5)"
   ]
  },
  {
   "cell_type": "markdown",
   "id": "f12c456a",
   "metadata": {},
   "source": [
    "### We also want to see what are the worst addresses to eat by year?"
   ]
  },
  {
   "cell_type": "markdown",
   "id": "d3e0de57",
   "metadata": {},
   "source": [
    "#### Create a default dictionary of counter by_year."
   ]
  },
  {
   "cell_type": "code",
   "execution_count": 19,
   "id": "f5fc5688",
   "metadata": {},
   "outputs": [],
   "source": [
    "by_year = defaultdict(Counter)"
   ]
  },
  {
   "cell_type": "markdown",
   "id": "f875156d",
   "metadata": {},
   "source": [
    "#### Count the rows in fail by Address in each year."
   ]
  },
  {
   "cell_type": "code",
   "execution_count": 20,
   "id": "acf193ec",
   "metadata": {},
   "outputs": [],
   "source": [
    "for row in fail:\n",
    "    by_year[row['Inspection Date'][-4:]][row['Address']] +=1"
   ]
  },
  {
   "cell_type": "markdown",
   "id": "94098980",
   "metadata": {},
   "source": [
    "#### Get the top 5 of the worst street Addresses in some years."
   ]
  },
  {
   "cell_type": "code",
   "execution_count": 21,
   "id": "01949f54",
   "metadata": {},
   "outputs": [
    {
     "data": {
      "text/plain": [
       "[('11601 W TOUHY AVE ', 39),\n",
       " ('500 W MADISON ST ', 13),\n",
       " ('324 N LEAVITT ST ', 9),\n",
       " ('307 S KEDZIE AVE ', 9),\n",
       " ('12 S MICHIGAN AVE ', 8)]"
      ]
     },
     "execution_count": 21,
     "metadata": {},
     "output_type": "execute_result"
    }
   ],
   "source": [
    "by_year['2015'].most_common(5)"
   ]
  },
  {
   "cell_type": "code",
   "execution_count": 22,
   "id": "89406906",
   "metadata": {},
   "outputs": [
    {
     "data": {
      "text/plain": [
       "[('11601 W TOUHY AVE ', 32),\n",
       " ('500 W MADISON ST ', 17),\n",
       " ('324 N LEAVITT ST ', 15),\n",
       " ('113-125 N GREEN ST ', 12),\n",
       " ('131 N CLINTON ST ', 10)]"
      ]
     },
     "execution_count": 22,
     "metadata": {},
     "output_type": "execute_result"
    }
   ],
   "source": [
    "by_year['2014'].most_common(5)"
   ]
  },
  {
   "cell_type": "code",
   "execution_count": 23,
   "id": "6b141f31",
   "metadata": {},
   "outputs": [
    {
     "data": {
      "text/plain": [
       "[('11601 W TOUHY AVE ', 37),\n",
       " ('2300 S THROOP ST ', 10),\n",
       " ('700 E GRAND AVE ', 10),\n",
       " ('301 E NORTH WATER ST ', 9),\n",
       " ('2946-2952 W ARMITAGE AVE ', 8)]"
      ]
     },
     "execution_count": 23,
     "metadata": {},
     "output_type": "execute_result"
    }
   ],
   "source": [
    "by_year['2013'].most_common(5)"
   ]
  },
  {
   "cell_type": "code",
   "execution_count": 24,
   "id": "c5b79e36",
   "metadata": {},
   "outputs": [
    {
     "data": {
      "text/plain": [
       "[('11601 W TOUHY AVE ', 51),\n",
       " ('324 N LEAVITT ST ', 14),\n",
       " ('2300 S THROOP ST ', 14),\n",
       " ('500 W MADISON ST ', 9),\n",
       " ('2306 W DEVON AVE ', 7)]"
      ]
     },
     "execution_count": 24,
     "metadata": {},
     "output_type": "execute_result"
    }
   ],
   "source": [
    "by_year['2016'].most_common(5)"
   ]
  },
  {
   "cell_type": "code",
   "execution_count": 25,
   "id": "2ee7eadc",
   "metadata": {},
   "outputs": [
    {
     "data": {
      "text/plain": [
       "[('2300 S THROOP ST ', 9),\n",
       " ('5107 S BLACKSTONE AVE ', 5),\n",
       " ('420 S PULASKI RD ', 5),\n",
       " ('11 E ILLINOIS ST ', 5),\n",
       " ('11601 W TOUHY AVE ', 5)]"
      ]
     },
     "execution_count": 25,
     "metadata": {},
     "output_type": "execute_result"
    }
   ],
   "source": [
    "by_year['2021'].most_common(5)"
   ]
  },
  {
   "cell_type": "code",
   "execution_count": 26,
   "id": "6c93ae9a",
   "metadata": {},
   "outputs": [
    {
     "data": {
      "text/plain": [
       "[('11601 W TOUHY AVE ', 7),\n",
       " ('2218-2222 N WESTERN AVE ', 6),\n",
       " ('108 N STATE ST ', 6),\n",
       " ('2300 S THROOP ST ', 6),\n",
       " ('2900 W BELMONT AVE ', 5)]"
      ]
     },
     "execution_count": 26,
     "metadata": {},
     "output_type": "execute_result"
    }
   ],
   "source": [
    "by_year['2020'].most_common(5)"
   ]
  },
  {
   "cell_type": "code",
   "execution_count": 27,
   "id": "94144c1a",
   "metadata": {},
   "outputs": [
    {
     "data": {
      "text/plain": [
       "[('11601 W TOUHY AVE ', 36),\n",
       " ('2300 S THROOP ST ', 25),\n",
       " ('2002 S WENTWORTH AVE ', 6),\n",
       " ('2309 N LINCOLN AVE ', 5),\n",
       " ('100 W 87TH ST ', 5)]"
      ]
     },
     "execution_count": 27,
     "metadata": {},
     "output_type": "execute_result"
    }
   ],
   "source": [
    "by_year['2019'].most_common(5)"
   ]
  },
  {
   "cell_type": "markdown",
   "id": "3f7781dc",
   "metadata": {},
   "source": [
    "### We got that '11601 W TOUHY AVE' seems to be the worst street address. \n",
    "#### Now, we get the top 5 of worst addresses to eat again."
   ]
  },
  {
   "cell_type": "code",
   "execution_count": 28,
   "id": "8e6e6329",
   "metadata": {},
   "outputs": [
    {
     "data": {
      "text/plain": [
       "[('11601 W TOUHY AVE ', 351),\n",
       " ('2300 S THROOP ST ', 119),\n",
       " ('324 N LEAVITT ST ', 91),\n",
       " ('500 W MADISON ST ', 83),\n",
       " ('5700 S CICERO AVE ', 64)]"
      ]
     },
     "execution_count": 28,
     "metadata": {},
     "output_type": "execute_result"
    }
   ],
   "source": [
    "bad.most_common(5)"
   ]
  },
  {
   "cell_type": "markdown",
   "id": "04707795",
   "metadata": {},
   "source": [
    "#### Call the result of the last expression. Aim to get the worst address."
   ]
  },
  {
   "cell_type": "code",
   "execution_count": 29,
   "id": "8e777482",
   "metadata": {},
   "outputs": [
    {
     "data": {
      "text/plain": [
       "'11601 W TOUHY AVE '"
      ]
     },
     "execution_count": 29,
     "metadata": {},
     "output_type": "execute_result"
    }
   ],
   "source": [
    "_[0][0]"
   ]
  },
  {
   "cell_type": "markdown",
   "id": "e50b3be0",
   "metadata": {},
   "source": [
    "#### Get the id of the result of the last expression. Aim to get the id of the worst address."
   ]
  },
  {
   "cell_type": "code",
   "execution_count": 30,
   "id": "2feae2b1",
   "metadata": {},
   "outputs": [
    {
     "data": {
      "text/plain": [
       "2226209895648"
      ]
     },
     "execution_count": 30,
     "metadata": {},
     "output_type": "execute_result"
    }
   ],
   "source": [
    "id(_)"
   ]
  },
  {
   "cell_type": "markdown",
   "id": "cd67a082",
   "metadata": {},
   "source": [
    "#### Create a list named ohare to store all rows in fail with Address start with '11601 W TOUHY'."
   ]
  },
  {
   "cell_type": "code",
   "execution_count": 31,
   "id": "69848ade",
   "metadata": {},
   "outputs": [],
   "source": [
    "ohare = [row for row in fail if row['Address'].startswith('11601 W TOUHY')]"
   ]
  },
  {
   "cell_type": "markdown",
   "id": "78bd08a1",
   "metadata": {},
   "source": [
    "#### Check the length of ohare."
   ]
  },
  {
   "cell_type": "code",
   "execution_count": 32,
   "id": "2aeaf2ee",
   "metadata": {},
   "outputs": [
    {
     "data": {
      "text/plain": [
       "352"
      ]
     },
     "execution_count": 32,
     "metadata": {},
     "output_type": "execute_result"
    }
   ],
   "source": [
    "len(ohare)"
   ]
  },
  {
   "cell_type": "markdown",
   "id": "18992b4a",
   "metadata": {},
   "source": [
    "#### Get a set of all different unique addresses in ohare. "
   ]
  },
  {
   "cell_type": "code",
   "execution_count": 33,
   "id": "4049ba7e",
   "metadata": {},
   "outputs": [
    {
     "data": {
      "text/plain": [
       "{'11601 W TOUHY AVE ', '11601 W TOUHY AVE T2 F12'}"
      ]
     },
     "execution_count": 33,
     "metadata": {},
     "output_type": "execute_result"
    }
   ],
   "source": [
    "{ row['Address'] for row in ohare }"
   ]
  },
  {
   "cell_type": "markdown",
   "id": "cd457dc6",
   "metadata": {},
   "source": [
    "#### Get a set of all unique businesses in ohare."
   ]
  },
  {
   "cell_type": "code",
   "execution_count": 34,
   "id": "4235d903",
   "metadata": {},
   "outputs": [
    {
     "data": {
      "text/plain": [
       "{'7-ELEVEN #39913A',\n",
       " 'AIR FRANCE',\n",
       " 'AMERICAN AIRLINES',\n",
       " 'AMERICAN AIRLINES ADMIRALS LOUNGE',\n",
       " 'AMERICAS DOG',\n",
       " 'ANDIAMOS OHARE, LLC',\n",
       " 'ARAMARK AT UNITED AIRLINES',\n",
       " 'ARGO TEA',\n",
       " 'ARGO TEA CAFE-OHARE T2',\n",
       " 'AUNTIE ANNES',\n",
       " 'AUNTIE ANNES PRETZELS',\n",
       " 'B JS  MARKET',\n",
       " 'BERGHOFF CAFE',\n",
       " 'BIG BOWL',\n",
       " 'BRITISH AIRWAYS',\n",
       " 'BURRITO BEACH',\n",
       " 'CAFFE  MERCATO',\n",
       " 'CHICAGO BLACKHAWKS STANLEYS T2 BAR',\n",
       " 'CHICAGO NEWS & GIFTS',\n",
       " 'CHILIS T - 3',\n",
       " 'CHILIS T-I',\n",
       " 'CHILIS- G CONCOURSE',\n",
       " 'CIBO EXPRESS GOURMET MARKET #2',\n",
       " 'CNN',\n",
       " 'DELI/STARBUCKS',\n",
       " 'DELTA SKY CLUB',\n",
       " 'DUNKIN DONUTS',\n",
       " 'EFIES CANTEEN INC',\n",
       " 'ELIS CHEESECAKE',\n",
       " 'FARMERS FRIDGE',\n",
       " 'FRESH ON THE FLY',\n",
       " 'FRONTERA TORTAS  BY RICK BAYLESS GATE K4 T3',\n",
       " 'FRONTERA TORTAS BY RICK  BAYLESS',\n",
       " 'GALILEO BAR',\n",
       " 'GARRETT POPCORN SHOPS',\n",
       " 'GATEGOURMET',\n",
       " 'GOLD COAST DOGS',\n",
       " 'GOOSE ISLAND',\n",
       " 'GREEN MARKET',\n",
       " 'HILTON OHARE',\n",
       " 'HOST INTERNATIONAL B05',\n",
       " 'HOST INTERNATIONAL INC',\n",
       " 'HOST INTERNATIONAL INC, CHILIS T-2',\n",
       " 'HOST INTERNATIONAL INC-GOOSE ISLAND T3',\n",
       " 'HOST INTERNATIONAL INC-PRAIRIE TAP',\n",
       " 'HOST INTERNATIONAL INC.',\n",
       " 'HOST INTERNATIONAL, INC',\n",
       " 'HOT DOG EXPRESS',\n",
       " 'HUB 51',\n",
       " 'HUDSON',\n",
       " 'HUDSON NEWS',\n",
       " 'HUDSON NEWS OHARE JOINT VENTURE',\n",
       " 'ICE BAR',\n",
       " 'INTELLIGENTSIA',\n",
       " 'JAMBA JUICE',\n",
       " 'KOREAN AIR LOUNGE',\n",
       " 'LA TAPENADE GATE H14',\n",
       " 'LA TAPENADES GATE H14',\n",
       " 'LOU MITCHELLS EXPRESS INC',\n",
       " 'MACARONI GRILL',\n",
       " 'MANCHU WOK',\n",
       " 'MCDONALDS',\n",
       " 'MCDONALDS # 12785',\n",
       " 'MCDONALDS # 17274',\n",
       " 'MCDONALDS # 17277',\n",
       " 'MCDONALDS # 22821',\n",
       " 'MCDONALDS CORPORATION',\n",
       " 'MCDONALDS RESTAURANT',\n",
       " 'NATURAL BREAK',\n",
       " 'NUTS ON CLARK',\n",
       " 'OBRIENS RESTAURANT & BAR',\n",
       " 'OHARE BAR',\n",
       " 'OHARE HILTON HOTEL',\n",
       " 'PARADES A CHICAGO BAR',\n",
       " 'PUBLICAN TAVERN K1',\n",
       " 'REGGIOS PIZZA EXPRESS',\n",
       " 'ROCKY MOUNTAIN CHOCOLATE FACTORY',\n",
       " 'RUSH STREET',\n",
       " 'SALAD WORKS',\n",
       " 'SARAHS CANDIES',\n",
       " 'SAS',\n",
       " 'SKYBRIDGE RESTAURANT & BAR',\n",
       " 'SODEXO AMERICA, LLC',\n",
       " 'STARBUCKS',\n",
       " 'STARBUCKS HK APEX',\n",
       " 'STARBUCKS L03',\n",
       " 'SUBWAY SANDWICH',\n",
       " 'SWISS AIR',\n",
       " 'SWISSPORT USA',\n",
       " 'THE GODDESS & GROCER',\n",
       " 'THE GREAT AMERICAN BAGEL',\n",
       " 'TOCCO',\n",
       " 'TORTAS FRONTERA',\n",
       " 'TRAVEL TRADERS #3081 @ HILTON OHARE',\n",
       " 'TUSCANY CAFE',\n",
       " 'UNITED AIRLINES CLUB',\n",
       " 'UNITED CLUB',\n",
       " 'UNITED CLUB ,T-1  CONCOURSE C',\n",
       " 'UNITED CLUB, TERMINAL 2 CONCOURSE F',\n",
       " 'UNITED CLUB,TERMINAL 1 CONCOURSE B SOUTH',\n",
       " 'UNITED FIRST INTERNATIONAL LOUNGE T1,CONCOURSE C',\n",
       " 'UNITED POLARIS LOUNGE - ORD',\n",
       " 'URBAN OLIVE',\n",
       " 'WICKER PARK SEAFOOD & SUSHI',\n",
       " 'WOLFGANG EXPRESS',\n",
       " 'WOLFGANG PUCK, T-3',\n",
       " 'WOW BAO',\n",
       " 'ZOOTS'}"
      ]
     },
     "execution_count": 34,
     "metadata": {},
     "output_type": "execute_result"
    }
   ],
   "source": [
    "{ row['DBA Name'] for row in ohare}"
   ]
  },
  {
   "cell_type": "markdown",
   "id": "f32f0038",
   "metadata": {},
   "source": [
    "#### Take a look at the first item in ohare list. Aim to check DBA Name (Business Name) and AKA Name (Public name)"
   ]
  },
  {
   "cell_type": "code",
   "execution_count": 35,
   "id": "4f029241",
   "metadata": {},
   "outputs": [
    {
     "data": {
      "text/plain": [
       "{'Inspection ID': '2144681',\n",
       " 'DBA Name': 'UNITED AIRLINES CLUB',\n",
       " 'AKA Name': 'UNITED AIRLINES CLUB T1 B-18',\n",
       " 'License #': '2464518',\n",
       " 'Facility Type': 'Restaurant',\n",
       " 'Risk': 'Risk 1 (High)',\n",
       " 'Address': '11601 W TOUHY AVE ',\n",
       " 'City': 'CHICAGO',\n",
       " 'State': 'IL',\n",
       " 'Zip': '60666',\n",
       " 'Inspection Date': '02/07/2018',\n",
       " 'Inspection Type': 'Canvass',\n",
       " 'Results': 'Fail',\n",
       " 'Violations': \"8. SANITIZING RINSE FOR EQUIPMENT AND UTENSILS:  CLEAN, PROPER TEMPERATURE, CONCENTRATION, EXPOSURE TIME - Comments: FOUND LOW TEMPERATURE GLASSWARE/DISH MACHINE BEHIND BAR AT IMPROPER SANITIZING RINSE OF 0 PPM CHLORINE CONCENTRATION. INSTRUCTED TO REPAIR. A MECHANICAL  DISH WASHING MACHINES SHOULD PROVIDE A FINAL SANITIZING RINSE OF EITHER 50 ? 100 PPM CHLORINE (FOR CHEMICAL SANITIZING MACHINE) OR 180F FINAL RINSE (FOR HOT WATER SANITIZING MACHINE). GLASSWARE/DISH MACHINE IS TAGGED 'HELD FOR INSPECTION'. INSTRUCTED NOT TO USE UNTIL FIXED. CHECKED DISH MACHINE TWICE STILL IMPROPER. SEE COMMENTS. CRITICAL VIOLATION 7-38-030 | 11. ADEQUATE NUMBER, CONVENIENT, ACCESSIBLE, DESIGNED, AND MAINTAINED - Comments: FOUND EXPOSED HAND SINK IN MAIN PREP/COOKING AREA NOT ACCESSIBLE FOR EMPLOYEES TO WASH HANDS. NOTED WITH WATER PITCHER SITTING  INSIDE THE SAID EXPOSED HAND SINK. INSTRUCTED MANAGER, EXPOSED HAND SINKS MUST BE CONVENIENT AND ACCESSIBLE FOR HAND WASHING AT ALL TIMES. (CORRECTED DURING INSPECTION-WATER PITCHER HAS BEEN REMOVED FROM EXPOSED HAND SINK). CRITICAL VIOLATION 7-38-030 | 16. FOOD PROTECTED DURING STORAGE, PREPARATION, DISPLAY, SERVICE AND TRANSPORTATION - Comments: FOUND INTERIOR SURFACES OF (3) ICE MACHINE (DINING AREA, MAIN PREP/COOKING AREA AND IN REAR BEHIND BAR PREP AREA)  WITH VISIBLE MOLD LIKE SUBSTANCES (PINK AND BLACK SLIMY SUBSTANCE) SEVERE BUILD-UP LIKELY TO CONTAMINATE THE ICE WHICH TO BE USED FOR HUMAN CONSUMPTION.  INSTRUCTED TO EMPTY ICE MACHINE.  MUST CLEAN (WASH, RINSE AND SANITIZE) AND MAINTAIN. SERIOUS VIOLATION 7-38-005 (A) | 21. * CERTIFIED FOOD MANAGER ON SITE WHEN POTENTIALLY HAZARDOUS FOODS ARE  PREPARED AND SERVED - Comments: FOUND NO CERTIFIED FOOD MANAGER ON SITE WHEN POTENTIALLY HAZARDOUS FOODS (CHICKEN, SALADS, SLICED FRUITS, LASAGNA ETC) ARE BEING PREPARED AND SERVED. INSTRUCTED MANAGER, A CERTIFIED FOOD MANAGER WITH CITY OF CHICAGO FOOD SERVICE SANITATION CERTIFICATE MUST BE PRESENT WHEN HANDLING POTENTIALLY HAZARDOUS FOODS. SERIOUS VIOLATION 7-38-012 | 31. CLEAN MULTI-USE UTENSILS AND SINGLE SERVICE ARTICLES PROPERLY STORED: NO REUSE OF SINGLE SERVICE ARTICLES - Comments: INSTRUCTED TO PROPERLY STORE PLATES UPSIDE DOWN AT THE BUFFET AREA. | 33. FOOD AND NON-FOOD CONTACT EQUIPMENT UTENSILS CLEAN, FREE OF ABRASIVE DETERGENTS - Comments: INSTRUCTED TO DETAIL CLEAN AND MAINTAIN INTERIOR SURFACES OF GLASSWARE/DISHMACHINE RACKS WITH EXCESSIVE LIME ACCUMULATION BEHIND (REAR) BAR, INTERIOR SURFACES OF 2 COMPARTMENT SINK IN REAR PREP BEHIND BAR. | 34. FLOORS: CONSTRUCTED PER CODE, CLEANED, GOOD REPAIR, COVING INSTALLED, DUST-LESS CLEANING METHODS USED - Comments: INSTRUCTED TO CLEAN AND MAINTAIN FLOORS ALONG THE WALLS AND IN ALL CORNERS INSIDE BEER WALK IN COOLER IN REAR PREP BEHIND BAR. | 38. VENTILATION: ROOMS AND EQUIPMENT VENTED AS REQUIRED: PLUMBING: INSTALLED AND MAINTAINED - Comments: INSTRUCTED TO INSTALL FAUCET (RIGHT SIDE) NECK AT 3 COMPARTMENT SINK IN REAR MAIN PREP/COOKING AREA. | 40. REFRIGERATION AND METAL STEM THERMOMETERS PROVIDED AND CONSPICUOUS - Comments: INSTRUCTED TO PROVIDE THERMOMETER VISIBLE AND ACCURATE INSIDE ALL COOLERS. MUST PROVIDE METAL STEM THERMOMETER TO MEASURE FOOD TEMPERATURE. | 43. FOOD (ICE) DISPENSING UTENSILS, WASH CLOTHS PROPERLY STORED - Comments: INSTRUCTED TO PROPERLY STORE ICE SCOOP IN A CLEAN SEPARATE CONTAINER BEHIND BAR TO PREVENT CONTAMINATION.\",\n",
       " 'Latitude': '42.008536400868735',\n",
       " 'Longitude': '-87.91442843927047',\n",
       " 'Location': '(-87.91442843927047, 42.008536400868735)'}"
      ]
     },
     "execution_count": 35,
     "metadata": {},
     "output_type": "execute_result"
    }
   ],
   "source": [
    "ohare[0]"
   ]
  },
  {
   "cell_type": "markdown",
   "id": "a9e2bceb",
   "metadata": {},
   "source": [
    "#### Count the rows in ohare by AKA Name to identify the worst location in ohare to eat."
   ]
  },
  {
   "cell_type": "code",
   "execution_count": 36,
   "id": "93a24c62",
   "metadata": {},
   "outputs": [],
   "source": [
    "c = Counter(row['AKA Name'] for row in ohare)"
   ]
  },
  {
   "cell_type": "markdown",
   "id": "8e2cfdb6",
   "metadata": {},
   "source": [
    "#### Get the top 10 of the worst location in ohare."
   ]
  },
  {
   "cell_type": "code",
   "execution_count": 37,
   "id": "784fcf48",
   "metadata": {},
   "outputs": [
    {
     "data": {
      "text/plain": [
       "[('MACARONI GRILL (T3-K2)', 12),\n",
       " ('ARGO TEA  (T3 ROTUNDA)', 9),\n",
       " (\"CHILI'S TOO (T2  F4)\", 8),\n",
       " ('ARGO TEA (T2/E5)', 7),\n",
       " ('TOCCO (T5 M-07)', 7),\n",
       " (\"CHILI'S  TOO (T3-H2)\", 7),\n",
       " (\"HILTON O'HARE & ANDIAMO\", 7),\n",
       " ('United Employee Cafeteria (T1 C LL)', 6),\n",
       " (\"REGGIO'S PIZZA EXPRESS (T3 G8)\", 5),\n",
       " ('GARRETT POPCORN SHOPS (T3 H2)', 5)]"
      ]
     },
     "execution_count": 37,
     "metadata": {},
     "output_type": "execute_result"
    }
   ],
   "source": [
    "c.most_common(10)"
   ]
  },
  {
   "cell_type": "markdown",
   "id": "e263e22b",
   "metadata": {},
   "source": [
    "#### Take a look at the first item of ohare."
   ]
  },
  {
   "cell_type": "code",
   "execution_count": 38,
   "id": "948053d3",
   "metadata": {},
   "outputs": [
    {
     "data": {
      "text/plain": [
       "{'Inspection ID': '2144681',\n",
       " 'DBA Name': 'UNITED AIRLINES CLUB',\n",
       " 'AKA Name': 'UNITED AIRLINES CLUB T1 B-18',\n",
       " 'License #': '2464518',\n",
       " 'Facility Type': 'Restaurant',\n",
       " 'Risk': 'Risk 1 (High)',\n",
       " 'Address': '11601 W TOUHY AVE ',\n",
       " 'City': 'CHICAGO',\n",
       " 'State': 'IL',\n",
       " 'Zip': '60666',\n",
       " 'Inspection Date': '02/07/2018',\n",
       " 'Inspection Type': 'Canvass',\n",
       " 'Results': 'Fail',\n",
       " 'Violations': \"8. SANITIZING RINSE FOR EQUIPMENT AND UTENSILS:  CLEAN, PROPER TEMPERATURE, CONCENTRATION, EXPOSURE TIME - Comments: FOUND LOW TEMPERATURE GLASSWARE/DISH MACHINE BEHIND BAR AT IMPROPER SANITIZING RINSE OF 0 PPM CHLORINE CONCENTRATION. INSTRUCTED TO REPAIR. A MECHANICAL  DISH WASHING MACHINES SHOULD PROVIDE A FINAL SANITIZING RINSE OF EITHER 50 ? 100 PPM CHLORINE (FOR CHEMICAL SANITIZING MACHINE) OR 180F FINAL RINSE (FOR HOT WATER SANITIZING MACHINE). GLASSWARE/DISH MACHINE IS TAGGED 'HELD FOR INSPECTION'. INSTRUCTED NOT TO USE UNTIL FIXED. CHECKED DISH MACHINE TWICE STILL IMPROPER. SEE COMMENTS. CRITICAL VIOLATION 7-38-030 | 11. ADEQUATE NUMBER, CONVENIENT, ACCESSIBLE, DESIGNED, AND MAINTAINED - Comments: FOUND EXPOSED HAND SINK IN MAIN PREP/COOKING AREA NOT ACCESSIBLE FOR EMPLOYEES TO WASH HANDS. NOTED WITH WATER PITCHER SITTING  INSIDE THE SAID EXPOSED HAND SINK. INSTRUCTED MANAGER, EXPOSED HAND SINKS MUST BE CONVENIENT AND ACCESSIBLE FOR HAND WASHING AT ALL TIMES. (CORRECTED DURING INSPECTION-WATER PITCHER HAS BEEN REMOVED FROM EXPOSED HAND SINK). CRITICAL VIOLATION 7-38-030 | 16. FOOD PROTECTED DURING STORAGE, PREPARATION, DISPLAY, SERVICE AND TRANSPORTATION - Comments: FOUND INTERIOR SURFACES OF (3) ICE MACHINE (DINING AREA, MAIN PREP/COOKING AREA AND IN REAR BEHIND BAR PREP AREA)  WITH VISIBLE MOLD LIKE SUBSTANCES (PINK AND BLACK SLIMY SUBSTANCE) SEVERE BUILD-UP LIKELY TO CONTAMINATE THE ICE WHICH TO BE USED FOR HUMAN CONSUMPTION.  INSTRUCTED TO EMPTY ICE MACHINE.  MUST CLEAN (WASH, RINSE AND SANITIZE) AND MAINTAIN. SERIOUS VIOLATION 7-38-005 (A) | 21. * CERTIFIED FOOD MANAGER ON SITE WHEN POTENTIALLY HAZARDOUS FOODS ARE  PREPARED AND SERVED - Comments: FOUND NO CERTIFIED FOOD MANAGER ON SITE WHEN POTENTIALLY HAZARDOUS FOODS (CHICKEN, SALADS, SLICED FRUITS, LASAGNA ETC) ARE BEING PREPARED AND SERVED. INSTRUCTED MANAGER, A CERTIFIED FOOD MANAGER WITH CITY OF CHICAGO FOOD SERVICE SANITATION CERTIFICATE MUST BE PRESENT WHEN HANDLING POTENTIALLY HAZARDOUS FOODS. SERIOUS VIOLATION 7-38-012 | 31. CLEAN MULTI-USE UTENSILS AND SINGLE SERVICE ARTICLES PROPERLY STORED: NO REUSE OF SINGLE SERVICE ARTICLES - Comments: INSTRUCTED TO PROPERLY STORE PLATES UPSIDE DOWN AT THE BUFFET AREA. | 33. FOOD AND NON-FOOD CONTACT EQUIPMENT UTENSILS CLEAN, FREE OF ABRASIVE DETERGENTS - Comments: INSTRUCTED TO DETAIL CLEAN AND MAINTAIN INTERIOR SURFACES OF GLASSWARE/DISHMACHINE RACKS WITH EXCESSIVE LIME ACCUMULATION BEHIND (REAR) BAR, INTERIOR SURFACES OF 2 COMPARTMENT SINK IN REAR PREP BEHIND BAR. | 34. FLOORS: CONSTRUCTED PER CODE, CLEANED, GOOD REPAIR, COVING INSTALLED, DUST-LESS CLEANING METHODS USED - Comments: INSTRUCTED TO CLEAN AND MAINTAIN FLOORS ALONG THE WALLS AND IN ALL CORNERS INSIDE BEER WALK IN COOLER IN REAR PREP BEHIND BAR. | 38. VENTILATION: ROOMS AND EQUIPMENT VENTED AS REQUIRED: PLUMBING: INSTALLED AND MAINTAINED - Comments: INSTRUCTED TO INSTALL FAUCET (RIGHT SIDE) NECK AT 3 COMPARTMENT SINK IN REAR MAIN PREP/COOKING AREA. | 40. REFRIGERATION AND METAL STEM THERMOMETERS PROVIDED AND CONSPICUOUS - Comments: INSTRUCTED TO PROVIDE THERMOMETER VISIBLE AND ACCURATE INSIDE ALL COOLERS. MUST PROVIDE METAL STEM THERMOMETER TO MEASURE FOOD TEMPERATURE. | 43. FOOD (ICE) DISPENSING UTENSILS, WASH CLOTHS PROPERLY STORED - Comments: INSTRUCTED TO PROPERLY STORE ICE SCOOP IN A CLEAN SEPARATE CONTAINER BEHIND BAR TO PREVENT CONTAMINATION.\",\n",
       " 'Latitude': '42.008536400868735',\n",
       " 'Longitude': '-87.91442843927047',\n",
       " 'Location': '(-87.91442843927047, 42.008536400868735)'}"
      ]
     },
     "execution_count": 38,
     "metadata": {},
     "output_type": "execute_result"
    }
   ],
   "source": [
    "ohare[0]"
   ]
  },
  {
   "cell_type": "markdown",
   "id": "d62512c3",
   "metadata": {},
   "source": [
    "### Next, we may want to do some more exploratory."
   ]
  },
  {
   "cell_type": "markdown",
   "id": "a541d769",
   "metadata": {},
   "source": [
    "#### Create inspections default dictionary."
   ]
  },
  {
   "cell_type": "code",
   "execution_count": 39,
   "id": "148c3edf",
   "metadata": {},
   "outputs": [],
   "source": [
    "inspections = defaultdict(list)"
   ]
  },
  {
   "cell_type": "markdown",
   "id": "b1ad74a8",
   "metadata": {},
   "source": [
    "#### Add rows in ohare into inspections dictionary as values, and keys are License #."
   ]
  },
  {
   "cell_type": "code",
   "execution_count": 40,
   "id": "ef013230",
   "metadata": {},
   "outputs": [],
   "source": [
    "for row in ohare:\n",
    "    inspections[row['License #']].append(row)"
   ]
  },
  {
   "cell_type": "markdown",
   "id": "bf024ff8",
   "metadata": {},
   "source": [
    "#### Get data from inspections dictionary by using License # = 2428080."
   ]
  },
  {
   "cell_type": "code",
   "execution_count": 41,
   "id": "15677dbe",
   "metadata": {},
   "outputs": [
    {
     "data": {
      "text/plain": [
       "[{'Inspection ID': '1950494',\n",
       "  'DBA Name': 'REGGIOS PIZZA EXPRESS',\n",
       "  'AKA Name': \"REGGIO'S PIZZA EXPRESS (T3 G8)\",\n",
       "  'License #': '2428080',\n",
       "  'Facility Type': 'Restaurant',\n",
       "  'Risk': 'Risk 1 (High)',\n",
       "  'Address': '11601 W TOUHY AVE ',\n",
       "  'City': 'CHICAGO',\n",
       "  'State': 'IL',\n",
       "  'Zip': '60666',\n",
       "  'Inspection Date': '08/16/2016',\n",
       "  'Inspection Type': 'License',\n",
       "  'Results': 'Fail',\n",
       "  'Violations': '',\n",
       "  'Latitude': '42.008536400868735',\n",
       "  'Longitude': '-87.91442843927047',\n",
       "  'Location': '(-87.91442843927047, 42.008536400868735)'}]"
      ]
     },
     "execution_count": 41,
     "metadata": {},
     "output_type": "execute_result"
    }
   ],
   "source": [
    "inspections['2428080']"
   ]
  },
  {
   "cell_type": "markdown",
   "id": "1ff8426d",
   "metadata": {},
   "source": [
    "#### Get all keys in inspections dictionary."
   ]
  },
  {
   "cell_type": "code",
   "execution_count": 42,
   "id": "16eeddb2",
   "metadata": {},
   "outputs": [
    {
     "data": {
      "text/plain": [
       "dict_keys(['2464518', '2463991', '2289520', '2594983', '1899202', '2516647', '1120626', '2308566', '2232034', '2363771', '2708730', '34139', '34192', '2428079', '2192963', '2487938', '1947515', '2109577', '34222', '2192971', '34159', '2583234', '2647047', '34220', '2464515', '2192968', '34190', '2487933', '1898214', '1898075', '2289515', '1942304', '2560546', '2069938', '1140128', '2363763', '34199', '34154', '1909532', '2535609', '2308553', '2192977', '1042895', '1356711', '2487937', '1884293', '34236', '34173', '2487943', '2304183', '2488186', '2464526', '2487932', '1909522', '2299087', '1879167', '51206', '1140745', '1909539', '64032', '1909523', '1879164', '1884292', '64540', '2517809', '15531', '1381615', '34215', '2535610', '1888807', '2535614', '2535613', '2487934', '34217', '2535615', '1954648', '34142', '1916161', '1141457', '2284294', '2517808', '34146', '2141979', '1621425', '2492747', '2487849', '2487848', '2492753', '2146327', '34235', '34219', '2492748', '2363760', '2492754', '2363766', '2013208', '2428080', '2009092', '1878675', '2013206', '2016729', '1974743', '34210', '1885160', '0', '2447055', '1916219', '1333235', '2451545', '1333242', '2363762', '2016727', '1333098', '2289084', '56366', '56367', '34234', '1142116', '2184012', '34167', '1879166', '34169', '34205', '34212', '34183', '2289531', '1675026', '2289511', '34203', '1927556', '2284027', '2289495', '2289525', '2289524', '2289527', '1141505', '2192969', '2277363', '2277391', '2261733', '2261728', '1224624', '2204037', '2232035', '29570', '85188', '1926528', '2125489', '2016732', '2124567', '2125246', '1333092', '2124574', '2103989', '2114331', '37170', '34211', '34229', '1069379', '34224', '1069382', '2009095', '1718776', '23894', '34201', '2021757', '2017724'])"
      ]
     },
     "execution_count": 42,
     "metadata": {},
     "output_type": "execute_result"
    }
   ],
   "source": [
    "inspections.keys()"
   ]
  },
  {
   "cell_type": "markdown",
   "id": "55432c6a",
   "metadata": {},
   "source": [
    "#### Try to get data from inspections dictionary by using another License # = 34192."
   ]
  },
  {
   "cell_type": "code",
   "execution_count": 43,
   "id": "1bf8006e",
   "metadata": {},
   "outputs": [
    {
     "data": {
      "text/plain": [
       "[{'Inspection ID': '2366101',\n",
       "  'DBA Name': 'HOST INTERNATIONAL INC, CHILIS T-2',\n",
       "  'AKA Name': \"CHILI'S TOO (T2  F4)\",\n",
       "  'License #': '34192',\n",
       "  'Facility Type': 'Restaurant',\n",
       "  'Risk': 'Risk 1 (High)',\n",
       "  'Address': '11601 W TOUHY AVE ',\n",
       "  'City': 'CHICAGO',\n",
       "  'State': 'IL',\n",
       "  'Zip': '60666',\n",
       "  'Inspection Date': '03/20/2020',\n",
       "  'Inspection Type': 'Canvass',\n",
       "  'Results': 'Fail',\n",
       "  'Violations': '10. ADEQUATE HANDWASHING SINKS PROPERLY SUPPLIED AND ACCESSIBLE - Comments: OBSERVED NO HAND SINK ON CONVENIENT DISTANCE FOR EMPLOYEE IN KITCHEN COOKING LINE OF FACILITY. FACILITY MUST OBTAIN AND INSTALL A HAND SINK UNDER CITY WATER PRESSURE AND MAINTAIN. PRIORITY FOUNDATION VIOLATION. 7-38-030(C). NO CITATION ISSUES | 22. PROPER COLD HOLDING TEMPERATURES - Comments: FOUND TCS FOOD AT IMPROPER TEMPERATURE: 5 LBS OF COOKED CHILI AT TEMP OF 46.5F; 5 LBS PICO DE GALLO 46.0 F, 10 LBS IN HOUSE MADE TOMATO SALSA 46.5 F ,MENTIONED PRODUCTS WERE STORED INSIDE THE WALK-IN COOLER .FOOD DISCARDED AND DENATURED PRIORITY VIOLATION:7-38-005,NO CITATION ISSUED.  | 33. PROPER COOLING METHODS USED; ADEQUATE EQUIPMENT FOR TEMPERATURE CONTROL - Comments: OBSERVED IMPROPER TEMPERATURE OF REFRIGERATOR AT 46.5F WITH TCS FOODS STORED INSIDE FOR SALE.A HELD FOR INSPECTION TAG HAS BEEN PLACED ON UNIT.ONCE REPAIRED,FAX OR EMAIL TO CDPH.MUST HAVE COLD HOLDING FOODS AT 41.0F OR BELOW.(PRIORITY 7-38-005) NO CITATION ISSUED | 37. FOOD PROPERLY LABELED; ORIGINAL CONTAINER - Comments: OBSERVED THAT PREPARED PANCAKES MIX IS STORED IN REACH UNSER COOLER WITH OUT COMMON NAME POSTED ON CONTAINER.ALL BULK AND WORKING FOOD INGREDIENT CONTAINERS MUST BE LABELED WITH CONTENTS NAME.MUST LABEL FOOD STORAGE CONTAINERS WHEN FOOD IS NOT IN ORIGINAL PACKAGE  | 40. PERSONAL CLEANLINESS - Comments: OBSERVED THAT EMPLOYEE WORE WATCHES AND BRACELETS AND RINGS ON HANDS WHILE WORKING WITH FOOD.MUST REMOVE ALL JEWELRY EXCEPT PLAIN WEDDING BAND FROM HANDS WHILE WORKING WITH EXPOSED FOOD | 49. NON-FOOD/FOOD CONTACT SURFACES CLEAN - Comments: MUST CLEAN AND MAINTAIN CLEAN FOOD DEBRIS BUILD UP FROM FRYER CABINET,COILS OF COOLING EQUIPMENT,WHEEL BASES OF ALL EQUIPMENT.MUST CLEAN  BUILD FROM DRAINS ON SODA MACHINE . | 49. NON-FOOD/FOOD CONTACT SURFACES CLEAN - Comments: INSTRUCTED TO DETAIL CLEAN AND MAINTAIN THE FOLLOWING AREAS GASKETS AND COOLERS DOORS AND SIDES OF HOT COOKING EQUIPMENT AT THE FRY STATION PREP AREA WITH ACCUMULATIONS OF GREASE BUILD-UP,EXTERIOR SURFACES OF THE TORTILLA CHIP WARMER,PREP LINE WARMER SHELVING WITH GREASE BUILD-UP,EXTERIOR SURFACES OF DISH MACHINE UNIT,INTERIOR/EXTERIOR KITCHEN STORAGE SHELVING. | 51. PLUMBING INSTALLED; PROPER BACKFLOW DEVICES - Comments: MUST REPAIR FAUCET CLOSING VALVE ON SPRAYER PRIOR DISH MACHINE, AND MUST REPAIR PIPES UNDER 3 COMPARTMENT SINK  | 52. SEWAGE & WASTE WATER PROPERLY DISPOSED - Comments: OBSERVED THREE COMPARTMENT SINK IN DISHWASHING AREA IN DISREPAIR NOT DRAINING PROPERLY (SLOW DRAINING),  WATER RELEASED FROM ONE COMPARTMENT(BASIN) BACKUP INSIDE ANOTHER COMPARTMENT(BASIN) WHEN RELEASED INSIDE SINK. INFORMED PERSON IN CHARGE OF REQUIREMENTS AND MUST REPAIR SINK AND MAINTAIN. PRIORITY VIOLATION 7-38-030(C) NO CITATION ISSUED. - | 55. PHYSICAL FACILITIES INSTALLED, MAINTAINED & CLEAN - Comments: NOTED CLUTTER OF EQUIPMENT AND OTHER UNUSED ITEMS ON  FLOORS IN STORAGE ROOMS.MUST ELEVATE ALL ITEMS TO ALLOW CLEANING AND REMOVE ALL UNNECESSARY ITEMS. | 55. PHYSICAL FACILITIES INSTALLED, MAINTAINED & CLEAN - Comments: NOTED THE FOLLOWING:- -FLOORS THROUGHOUT PREMISE ESPECIALLY ALONG WALL BASE AND UNDERNEATH EQUIPMENT WITH DIRT, GREASE AND FOOD DEBRIS, INSTRUCTED TO DETAIL CLEAN AND SANITIZE ESPECIALLY AREAS WITH PEST ACTIVITY, CLEAN AND MAINTAIN WALLS WITH CRACKS AND SPILLS. MUST UPGRADE HOUSEKEEPING. | 56. ADEQUATE VENTILATION & LIGHTING; DESIGNATED AREAS USED - Comments: MUST REPLACE BURNED LIGHT BULB INSIDE REACH IN COOLER LOCATED IN DRY STORAGE AREA | 56. ADEQUATE VENTILATION & LIGHTING; DESIGNATED AREAS USED - Comments: MUST REPLACED NON WORKING LIGHTS IN FOOD PREP AREA',\n",
       "  'Latitude': '42.008536400868735',\n",
       "  'Longitude': '-87.91442843927047',\n",
       "  'Location': '(-87.91442843927047, 42.008536400868735)'},\n",
       " {'Inspection ID': '2176568',\n",
       "  'DBA Name': 'HOST INTERNATIONAL INC, CHILIS T-2',\n",
       "  'AKA Name': \"CHILI'S TOO (T2  F4)\",\n",
       "  'License #': '34192',\n",
       "  'Facility Type': 'Restaurant',\n",
       "  'Risk': 'Risk 1 (High)',\n",
       "  'Address': '11601 W TOUHY AVE ',\n",
       "  'City': 'CHICAGO',\n",
       "  'State': 'IL',\n",
       "  'Zip': '60666',\n",
       "  'Inspection Date': '05/31/2018',\n",
       "  'Inspection Type': 'Canvass',\n",
       "  'Results': 'Fail',\n",
       "  'Violations': \"2. FACILITIES TO MAINTAIN PROPER TEMPERATURE - Comments: FACILITIES DO NOT MAINTAIN PROPER TEMPERATURE. OBSERVED THE 1 DOOR FOOD PREP LINE COOLER ACROSS FROM GRILL WITH AN AIR TEMPERATURE OF (44.4F-50.0F).UNIT TAGGED HELD FOR INSPECTION.MUST EMPTY THE UNIT AND HAVE IT REPAIRED SO THAT IT MAINTAINS AN AIR TEMPERATURE BELOW 40F OR BELOW AT ALL TIMES.MANAGEMENT IMMEDIATELY CALLED FOR REFRIGERATION SERVICE DURING THIS INSPECTION. CRITICAL VIOLATION 7-38-005(A). | 3. POTENTIALLY HAZARDOUS FOOD MEETS TEMPERATURE REQUIREMENT DURING STORAGE, PREPARATION DISPLAY AND SERVICE - Comments: POTENTIALLY HAZARDOUS FOODS STORED AT IMPROPER TEMPERATURES INSIDE THE 1 DOOR FOOD PREP LINE COOLER.FOUND CUT TOMATOES AT 47.5F,RANCH SALAD DRESSINGS AT 48.7F,BLUE CHEESE CRUMBS 44.6F,MIXED BEAN/CORN SALAD AT 48.3F,CUT CUCUMBERS AT 47.0F,WHITE/YELLOW SHREDDED CHEDDAR AT 45.2F ETC.MANAGEMENT VOLUNTARILY DISCARDED/DENATURED APPROX:15 LBS OF FOOD WORTH $40.00 AS STATED BY MANAGER AT THIS TIME.INSTRUCTED MANAGER THAT ALL COLD FOODS MUST BE STORED AT A TEMPERATURE OF 40F OR BELOW AND ALL HOT FOODS MUST BE STORED AT A TEMPERATURE OF 140F OR ABOVE AT ALL TIMES.CRITICAL VIOLATION 7-38-005(A). | 16. FOOD PROTECTED DURING STORAGE, PREPARATION, DISPLAY, SERVICE AND TRANSPORTATION - Comments: FOUND FOOD (ICE) NOT PROTECTED DURING STORAGE INSIDE OF THE (COCA-COLA) ICE MACHINE.OBSERVED BLACK SLIMY SUBSTANCE ON INTERIOR WATER COMPONENTS OF THE ICE MAKER;'ICE USED FOR HUMAN CONSUMPTION'.MANAGEMENT INSTRUCTED TO TURN OFF MACHINE,REMOVE ICE AND HAVE INTERIOR OF ICE MACHINE CLEANED AND SANITIZED AND MAINTAINED.SERIOUS VIOLATION 7-38-005(A). | 29. PREVIOUS MINOR VIOLATION(S) CORRECTED 7-42-090 - Comments: PREVIOUS MINOR VIOLATION(S) NOT CORRECTED FROM INSPECTION REPORT#2098434 DATED:10/06/2017.  33 \\tObserved grease accumulation on the outside of the freezer next to the fryers and in the small electrical compartment of the two door cooler across from the fryers. Instructed facility to clean and maintain.  Observed heavy grease buildup on the four door low cooler below the flat top. Instructed facility to clean and maintain.  Observed the compartment below the bar exposed handsink to be dirty. Instructed facility to clean and maintain. \\t01/06/2018  34 \\tObserved the floor at the dish area to be dirty and wet. Instructed facility to clean and maintain dry. \\t01/06/2018  35 \\tObserved the wall behind the cooking equipment to be dirty with grease and food debris, including the 4 outlets. Instructed facility to clean and maintain.  Observed the ceiling tiles near the vents to be dusty and the ceiling tile tracks to be dirty. Instructed facility to clean and maintain.  INSTRUCTED MANAGEMENT TO CORRECT AND MAINTAIN ALL NOTED VIOLATIONS BY 6/7/2018. SERIOUS VIOLATION 7-42-090. | 32. FOOD AND NON-FOOD CONTACT SURFACES PROPERLY DESIGNED, CONSTRUCTED AND MAINTAINED - Comments: OBSERVED BROKEN GASKET AT THE LOWER DOOR OF THE 4 DOOR COOLER UNDERNEATH THE COOKING GRILL.INSTRUCTED TO REPLACE GASKETS AND MAINTAIN.  CUTTING BOARDS WITH DEEP, DARK GROOVES MUST BE SANDED/BLEACHED OR REPLACED THROUGHOUT THE FOOD PREP AREAS AND MAINTAIN. | 36. LIGHTING: REQUIRED MINIMUM FOOT-CANDLES OF LIGHT PROVIDED, FIXTURES SHIELDED - Comments: OBSERVED DIM LIGHTING INSIDE THE WALK-IN-COOLER.INSRTUCTED TO PROVIDE BRIGHTER LIGHT BULB AND MAINTAIN ADEQUATE LIGHTING AT ALL TIMES. | 41. PREMISES MAINTAINED FREE OF LITTER, UNNECESSARY ARTICLES, CLEANING  EQUIPMENT PROPERLY STORED - Comments: INSTRUCTED TO DETAIL CLEAN AND ORGANIZE REAR DRY STORAGE ROOM AND REMOVE UNNECESSARY ARTICLES DUE TO POTENTIAL PEST HARBORAGE AND ELEVATE STORED ITEMS 6' OFF THE FLOOR/WALL FOR EASIER CLEANING AND MAINTAIN.\",\n",
       "  'Latitude': '42.008536400868735',\n",
       "  'Longitude': '-87.91442843927047',\n",
       "  'Location': '(-87.91442843927047, 42.008536400868735)'},\n",
       " {'Inspection ID': '2222356',\n",
       "  'DBA Name': 'HOST INTERNATIONAL INC, CHILIS T-2',\n",
       "  'AKA Name': \"CHILI'S TOO (T2  F4)\",\n",
       "  'License #': '34192',\n",
       "  'Facility Type': 'Restaurant',\n",
       "  'Risk': 'Risk 1 (High)',\n",
       "  'Address': '11601 W TOUHY AVE ',\n",
       "  'City': 'CHICAGO',\n",
       "  'State': 'IL',\n",
       "  'Zip': '60666',\n",
       "  'Inspection Date': '09/14/2018',\n",
       "  'Inspection Type': 'Canvass',\n",
       "  'Results': 'Fail',\n",
       "  'Violations': '38. INSECTS, RODENTS, & ANIMALS NOT PRESENT - Comments: 6-501.112(C) OBSERVED LIVE FRUIT FLIES AT BAR AREAS AND SIDE OF DINING AREA FOR CUSTOMERS ALSO, ALONG THE HALLWAY LEADING TO REAR DRY STORAGE ROOM. APPROXIMATELY 20 LIVE FRUIT FLIES WERE OBSERVED ON THE WALLS, CEILING AND EQUIPMENT IN THESE AREAS.INSTRUCTED TO DETAIL CLEAN AND SANITIZE AFFECTED AREAS AND NOTIFY THE PEST CONTROL COMPANY TO SERVICE THE PREMISES.PRIORITY FOUNDATION 7-38-020(A),CITATION ISSUED. | 47. FOOD & NON-FOOD CONTACT SURFACES CLEANABLE, PROPERLY DESIGNED, CONSTRUCTED & USED - Comments: 4-501.12 INSTRUCTED TO REPLACE WORNED-OUT/STAINED COLORED CODED CUTTING BOARDS STORED ON SHELVING IN DISHMACHINE AREAS AND TO MAINTAIN. | 49. NON-FOOD/FOOD CONTACT SURFACES CLEAN - Comments: 4-602.13  INSTRUCTED TO DETAIL CLEAN AND MAINTAIN THE FOLLOWING AREAS GASKETS AND COOLERS DOORS AND SIDES OF HOT COOKING EQUIPMENTS AT THE FRY STATION PREP AREA WITH ACCUMULATIONS OF GREASE BUILD-UP,EXTERIOR SURFACES OF THE TORTILLA CHIP WARMER,PREP LINE WARMER SHELVING WITH GREASE BUILD-UP,EXTERIOR SURFACES OF DISHAMCHINE UNIT,INTERIOR/EXTERIOR KITCHEN STORAGE SHELVINGS. | 55. PHYSICAL FACILITIES INSTALLED, MAINTAINED & CLEAN - Comments: 6-201.17 (A) INSTRUCTED TO REMOVE DUSTS ACCUMULATIONS ON CEILING LIGHT COVERS AND ON CEILING TILES AND CEILING VENTILATION COVERS THROUGHOUT THE FOOD PREP AREAS AND BAR AREAS CUSTOMER DINING AREAS AND TO MAINTAIN.  | 55. PHYSICAL FACILITIES INSTALLED, MAINTAINED & CLEAN - Comments: 6-501.13 (A) INSTRUCTED TO DETAIL CLEAN AND MAINTAIN FLOORS ALONG THE WALLS AND IN ALL CORNERS IN PREP AREAS AND BAR AREAS TO REMOVE SPILLAGE DEBRIS.',\n",
       "  'Latitude': '42.008536400868735',\n",
       "  'Longitude': '-87.91442843927047',\n",
       "  'Location': '(-87.91442843927047, 42.008536400868735)'},\n",
       " {'Inspection ID': '1989271',\n",
       "  'DBA Name': 'HOST INTERNATIONAL INC, CHILIS T-2',\n",
       "  'AKA Name': \"CHILI'S TOO (T2  F4)\",\n",
       "  'License #': '34192',\n",
       "  'Facility Type': 'Restaurant',\n",
       "  'Risk': 'Risk 1 (High)',\n",
       "  'Address': '11601 W TOUHY AVE ',\n",
       "  'City': 'CHICAGO',\n",
       "  'State': 'IL',\n",
       "  'Zip': '60666',\n",
       "  'Inspection Date': '02/16/2017',\n",
       "  'Inspection Type': 'Canvass',\n",
       "  'Results': 'Fail',\n",
       "  'Violations': \"16. FOOD PROTECTED DURING STORAGE, PREPARATION, DISPLAY, SERVICE AND TRANSPORTATION - Comments: Observed ice, used for human consumption, not protected- in the coca cola ice machine observed a black, mold-like accumulation on the interior portions. Instructed facility to remove all ice, clean, sanitize, and maintain. Serious violation 7-38-005(a). | 32. FOOD AND NON-FOOD CONTACT SURFACES PROPERLY DESIGNED, CONSTRUCTED AND MAINTAINED - Comments: Instructed facility to install and maintain a splashguard to the right of the bar exposed handsink. | 33. FOOD AND NON-FOOD CONTACT EQUIPMENT UTENSILS CLEAN, FREE OF ABRASIVE DETERGENTS - Comments: Observed dirt accumulation on the shelves in the walk in cooler. Instructed facility to clean and maintain.  Observed food debris on the interiors of the microwaves. Instructed facility to clean and maintain.  Observed the large, stand alone ice machine near Stanley's Prep to have slight dirt accumulation in the upper, interior portion. Instructed facility to clean, sanitize, and maintain. | 34. FLOORS: CONSTRUCTED PER CODE, CLEANED, GOOD REPAIR, COVING INSTALLED, DUST-LESS CLEANING METHODS USED - Comments: Observed oil, dirt, and food debris on the floors under the line and around heavy equipment and fixtures. Instructed facility to clean and maintain.\",\n",
       "  'Latitude': '42.008536400868735',\n",
       "  'Longitude': '-87.91442843927047',\n",
       "  'Location': '(-87.91442843927047, 42.008536400868735)'},\n",
       " {'Inspection ID': '1751584',\n",
       "  'DBA Name': 'HOST INTERNATIONAL INC, CHILIS T-2',\n",
       "  'AKA Name': \"CHILI'S TOO (T2  F4)\",\n",
       "  'License #': '34192',\n",
       "  'Facility Type': 'Restaurant',\n",
       "  'Risk': 'Risk 1 (High)',\n",
       "  'Address': '11601 W TOUHY AVE ',\n",
       "  'City': 'CHICAGO',\n",
       "  'State': 'IL',\n",
       "  'Zip': '60666',\n",
       "  'Inspection Date': '04/07/2016',\n",
       "  'Inspection Type': 'Complaint',\n",
       "  'Results': 'Fail',\n",
       "  'Violations': '3. POTENTIALLY HAZARDOUS FOOD MEETS TEMPERATURE REQUIREMENT DURING STORAGE, PREPARATION DISPLAY AND SERVICE - Comments: FOUND POTENTIALLY HAZARDOUS FOODS AT IMPROPER TEMPERATURE REQUIREMENT DURING STORAGE INSIDE PREP COOLER (AIR TEMPERATURE OF 41.2). NOTED INTERNAL TEMPERATURE OF THE FOLLOWING: SLICED TOMATOES AT 47.1F, PIMENTO CHEESE AT 51.8F, MEAT LOAF AT 46.6F, COLESLAW AT 46.5F. INSTRUCTED MANAGER POTENTIALLY HAZARDOUS FOODS MUST MAINTAIN COLD HOLDING TEMPERATURE OF 40F OR BELOW AND HOT HOLDING TEMPERATURE OF 140F OR ABOVE. MANAGEMENT DISCARDED THE SAID FOOD PRODUCTS, TOTAL VALUE $ 25.00  TOTAL WEIGHT 4 LBS.  CRITICAL VIOLATION 7-38-005 (1) | 11. ADEQUATE NUMBER, CONVENIENT, ACCESSIBLE, DESIGNED, AND MAINTAINED - Comments: FOUND EXPOSED HAND SINK (BAR AREA) NOT MAINTAINED PROPERLY. NO HOT AND COLD RUNNING WATER. INSTRUCTED TO FIX. MUST TEMPORARILY USE EXPOSED HAND SINK BEHIND BAR FOR EMPLOYEE TO WASH HANDS. ISSUED 48 HOUR NOTICE.  CRITICAL VIOLATION 7-38-030 | 18. NO EVIDENCE OF RODENT OR INSECT OUTER OPENINGS PROTECTED/RODENT PROOFED, A WRITTEN LOG SHALL BE MAINTAINED AVAILABLE TO THE INSPECTORS - Comments: FOUND 23LIVE COCKROACHES ON WALL BEHIND DISH MACHINE IN REAR PREP AREA. INSTRUCTED TO REMOVE, CLEAN AND SANITIZE THE AFFECTED AREAS. RECOMMEND TO CALL LICENSED PEST CONTROL FOR SERVICE.  SERIOUS VIOLATION 7-38-020 | 33. FOOD AND NON-FOOD CONTACT EQUIPMENT UTENSILS CLEAN, FREE OF ABRASIVE DETERGENTS - Comments: INSTRUCTED TO DETAIL CLEAN AND MAINTAIN SIDES OF ALL COOKING EQUIPMENT, PREP AND COUNTER SHELVES WITH EXCESSIVE GREASE ACCUMULATION AND INTERIOR AND EXTERIOR SURFACES OF DISH MACHINE WITH EXCESSIVE LIME/CALCIUM BUILD-UP.--------MUST CLEAN AND MAINTAIN INTERIOR SURFACES OF SODA GUNS WITH SLIMY BUILD-UP BEHIND BAR. | 34. FLOORS: CONSTRUCTED PER CODE, CLEANED, GOOD REPAIR, COVING INSTALLED, DUST-LESS CLEANING METHODS USED - Comments: INSTRUCTED TO DETAIL CLEAN AND MAINTAIN FLOORS ALONG THE WALLS AND IN ALL CORNERS THROUGHOUT PREP AREA ESPECIALLY UNDERNEATH COOKING EQUIPMENT, UNDERNEATH ELECTRICAL BOX CABINET AND FLOOR DRAINS THROUGHOUT WITH EXCESSIVE GREASE AND FOOD DEBRIS.--------INSTRUCTED TO RE GROUT FLOOR TILES WITH DEEP SEAMS IN DISH WASHING AREA AND AT COOKING LINE. | 35. WALLS, CEILINGS, ATTACHED EQUIPMENT CONSTRUCTED PER CODE: GOOD REPAIR, SURFACES CLEAN AND DUST-LESS CLEANING METHODS - Comments: INSTRUCTED TO SEAL ALL HOLES ON WALL BEHIND DISH MACHINE/3 COMPARTMENT SINK AND WALL BEHIND MOP SINK.-----------MUST DETAIL CLEAN AND MAINTAIN VENT/HOOD WITH EXCESSIVE DUST AND GREASE ABOVE DISH MACHINE. | 38. VENTILATION: ROOMS AND EQUIPMENT VENTED AS REQUIRED: PLUMBING: INSTALLED AND MAINTAINED - Comments: INSTRUCTED TO REPAIR DRAINPIPE UNDERNEATH 1ST COMPARTMENT (FAR LEFT) OF THE 3 COMPARTMENT SINK (BETWEEN 2 DISH MACHINE).---------MUST FIX SLOW DRAINING 3 COMPARTMENT BAR SINK BEHIND BAR.-----------MUST REPAIR EXPOSED HAND SINK FAUCET AND HANDLE WITH LEAK IN REAR PREP AREA.',\n",
       "  'Latitude': '42.008536400868735',\n",
       "  'Longitude': '-87.91442843927047',\n",
       "  'Location': '(-87.91442843927047, 42.008536400868735)'},\n",
       " {'Inspection ID': '1424477',\n",
       "  'DBA Name': 'HOST INTERNATIONAL INC, CHILIS T-2',\n",
       "  'AKA Name': \"CHILI'S TOO (T2  F4)\",\n",
       "  'License #': '34192',\n",
       "  'Facility Type': 'Restaurant',\n",
       "  'Risk': 'Risk 1 (High)',\n",
       "  'Address': '11601 W TOUHY AVE ',\n",
       "  'City': 'CHICAGO',\n",
       "  'State': 'IL',\n",
       "  'Zip': '60666',\n",
       "  'Inspection Date': '09/04/2014',\n",
       "  'Inspection Type': 'Canvass',\n",
       "  'Results': 'Fail',\n",
       "  'Violations': '18. NO EVIDENCE OF RODENT OR INSECT OUTER OPENINGS PROTECTED/RODENT PROOFED, A WRITTEN LOG SHALL BE MAINTAINED AVAILABLE TO THE INSPECTORS - Comments: OBSERVED OVER 10 LIVE SMALL FLIES ON WALLS AROUND DISHMACHINE. INSTRUCTED MANAGER TO REMOVE SMALL FLIES BY DATE OF REINSPECTION, ALSO MUST SANITIZE ALL EFFECTED AREAS. SERIOUS VIOLATION 7-38-020. | 29. PREVIOUS MINOR VIOLATION(S) CORRECTED 7-42-090 - Comments: THE FOLLOWING PREVIOUS MINOR VIOLATIONS FROM REPORT #1424223 DATED ON 04/15/14 REMAINS, #33 THE FOLLOWING NOT CLEAN- FOOD/GREASE BUILD UP ON ALL PREP AREA SHELVES AND EXTERIOR OF ALL COOKING/COOLING EQUIPMENT, #34 OBBSERVED FOOD/DIRT BUILD UP ON FLOOR UNDER AND AROUND ALL COOKING AND COOLING EQUIPMENT, MUST CLEAN FLOOR THROUGHOUT AND MAINTAIN AND #35 OBSERVED FOOD BUILD UP ON WALLS UNDER AND BEHIND DISHMACHINE, MUST CLEAN WALLS IN DISHWASH AND PREP AREA. INSTRUCTED MANAGER ALL PREVIOUS MINOR VIOLATIONS MUST BE CORRECTED BY DATE OF REINSPECTION. SERIOUS VIOLATION 7-42-090.',\n",
       "  'Latitude': '42.008536400868735',\n",
       "  'Longitude': '-87.91442843927047',\n",
       "  'Location': '(-87.91442843927047, 42.008536400868735)'},\n",
       " {'Inspection ID': '596460',\n",
       "  'DBA Name': 'HOST INTERNATIONAL INC, CHILIS T-2',\n",
       "  'AKA Name': \"CHILI'S TOO (T2  F4)\",\n",
       "  'License #': '34192',\n",
       "  'Facility Type': 'Restaurant',\n",
       "  'Risk': 'Risk 1 (High)',\n",
       "  'Address': '11601 W TOUHY AVE ',\n",
       "  'City': 'CHICAGO',\n",
       "  'State': 'IL',\n",
       "  'Zip': '60666',\n",
       "  'Inspection Date': '09/20/2011',\n",
       "  'Inspection Type': 'Canvass',\n",
       "  'Results': 'Fail',\n",
       "  'Violations': '8. SANITIZING RINSE FOR EQUIPMENT AND UTENSILS:  CLEAN, PROPER TEMPERATURE, CONCENTRATION, EXPOSURE TIME - Comments: HIGH TEMP DISH MACHINE NOT REACHING FINAL RINSE TEMP OF 180F. FINAL RINSE WAS ONLY 170F.  MANAGER CALLED THE MAINTENANCE AND HE WAS ABLE TO FIXED THE DISH MACHINE. FINAL RINSE IS NOW AT 180F. CITATION ISSUED CRITICAL. | 18. NO EVIDENCE OF RODENT OR INSECT OUTER OPENINGS PROTECTED/RODENT PROOFED, A WRITTEN LOG SHALL BE MAINTAINED AVAILABLE TO THE INSPECTORS - Comments: FOUND EVIDENCE OF LIVE FRUIT FLIES ON THE CEILING AND WALLS IN THE BAR OVER 8 TOTAL. MUST ELIMINATE FRUIT FLIES AND CLEAN THE WALLS AND CEILING AND FLOOR DRAIN. CITATION ISSUED SERIOUS.  | 32. FOOD AND NON-FOOD CONTACT SURFACES PROPERLY DESIGNED, CONSTRUCTED AND MAINTAINED - Comments: MUST PROVIDE ONE MORE DRAIN STOPPER FOR THE 3 COMPT SINK.(MISSING ONE DRAIN STOPPER NOTED). | 33. FOOD AND NON-FOOD CONTACT EQUIPMENT UTENSILS CLEAN, FREE OF ABRASIVE DETERGENTS - Comments: MUST CLEAN IN DETAIL UNDERNEATH THE HOT HOLDING SHELVING IN THE COOKS AREA, ALL THE INTERIOR OF THE MICROWAVE OVENS,ALL EXTERIOR OF THE GARBAGE CANS IN THE PREP AREA AND INTERIOR PANEL OF THE ICE MACHINE SANITIZE AND MAINTAIN.  | 34. FLOORS: CONSTRUCTED PER CODE, CLEANED, GOOD REPAIR, COVING INSTALLED, DUST-LESS CLEANING METHODS USED - Comments: MUST CLEAN IN DETAIL THE FLOOR ALONG THE WALL BASE AND ALL CORNER ,UNDER AND BEHIND ALL COOKING EQUIPMENT,COOLER, PREP TABLE, UNDER THE 3 COMPT SINK, AND BY THE DISH MACHINE AREA AND MAINTAIN. | 35. WALLS, CEILINGS, ATTACHED EQUIPMENT CONSTRUCTED PER CODE: GOOD REPAIR, SURFACES CLEAN AND DUST-LESS CLEANING METHODS - Comments: MUST CLEAN THE WALLS BY THE DISH AREA, WALLS BEHIND ALL THE COOKING EQUIPMENT, THE CEILING VENT ABOVE THE PREP TABLE, VENT ABOVE THE DISH MACHINE, FAN COVER INSIDE THE REACH IN COOLER AND MAINTAIN. ALL CEILING LIGHT SHIELD WITH DUST ACCUMULATED. MUST CLEAN AND MAINTAIN. METAL LINING ON THE CEILING BY THE DISH MACHINE RUSTED. MUST REMOVE RUST OR REPLACE. | 38. VENTILATION: ROOMS AND EQUIPMENT VENTED AS REQUIRED: PLUMBING: INSTALLED AND MAINTAINED - Comments: LEAKING ON THE FAUCET CONNECTOR OF THE 3 COMPT SINK. MUST REPAIR AND MAINTAIN.',\n",
       "  'Latitude': '42.008536400868735',\n",
       "  'Longitude': '-87.91442843927047',\n",
       "  'Location': '(-87.91442843927047, 42.008536400868735)'},\n",
       " {'Inspection ID': '70307',\n",
       "  'DBA Name': 'HOST INTERNATIONAL INC, CHILIS T-2',\n",
       "  'AKA Name': \"CHILI'S TOO (T2  F4)\",\n",
       "  'License #': '34192',\n",
       "  'Facility Type': 'Restaurant',\n",
       "  'Risk': 'Risk 1 (High)',\n",
       "  'Address': '11601 W TOUHY AVE ',\n",
       "  'City': 'CHICAGO',\n",
       "  'State': 'IL',\n",
       "  'Zip': '60666',\n",
       "  'Inspection Date': '01/26/2010',\n",
       "  'Inspection Type': 'Canvass',\n",
       "  'Results': 'Fail',\n",
       "  'Violations': '2. FACILITIES TO MAINTAIN PROPER TEMPERATURE - Comments: All food establishments that display, prepare, or store potentially hazardous food shall have adequate refrigerated food storage facilities.  FOUND PREP COOLER AT 45.5F. IMPROPER TEMPERATURE TO HOLD COLD FOOD AT 40F OR BELOW. CITATION ISSUED,TAGGED COOLER,INSTRUCTED COOLER MUST BE 40F OR BELOW | 3. POTENTIALLY HAZARDOUS FOOD MEETS TEMPERATURE REQUIREMENT DURING STORAGE, PREPARATION DISPLAY AND SERVICE - Comments: All cold food shall be stored at a temperature of 40F or less.  FOUND POTENTIALLY HAZARDOUS FOODS AT IMPROPER TEMPERATURE,CHEESE SAUCE WITH GROUND BEEF 50.5F 5LBS,AND 55.8F 5 LBS;SPINACH ARTICHOKE DIP 45.5F 2 LBS ,TOTAL $50.00,MANAGER DISCARDED THE FOOD;INSTRUCTED ALL COLD FOODS MUST BE 40F OR BELOW | 29. PREVIOUS MINOR VIOLATION(S) CORRECTED 7-42-090 - Comments: A separate and distinct offense shall be deemed to have been committed for each Minor violation that is not corrected upon re-inspection by the health authority.  PREVIOUS MINOR VIOLATIONS FROM REPORT #160968 ,06-12-09, NOT CORRECTED,SERIOUS VIOLATION: #33-FOUND ALL COOLERS IN PREP AREA UNCLEAN, MUST DETAIL CLEAN ALL COOLERS; #32-ICE BIN IN BAR AREA NOT COVERED MUST PROVIDE LID; #35-VENTILATION IN DISH AREA UNCLEAN,MUST DETAIL CLEAN; #35-BROKEN LIGHT SHIELD MUST BE REPLACED.GIVEN  5 DAYS 02-02-10 TO CORRECT THE VIOLATION | 32. FOOD AND NON-FOOD CONTACT SURFACES PROPERLY DESIGNED, CONSTRUCTED AND MAINTAINED - Comments: All food and non-food contact equipment and utensils shall be smooth, easily cleanable, and durable, and shall be in good repair.  ATTACHED EQUIPMENT IN DISH AREA UNCLEAN,MUST DETAIL CLEAN;CORNERS OF SODA MACHINE UBCLEAN,MUST CLEAN | 33. FOOD AND NON-FOOD CONTACT EQUIPMENT UTENSILS CLEAN, FREE OF ABRASIVE DETERGENTS - Comments: All food and non-food contact surfaces of equipment and all food storage utensils shall be thoroughly cleaned and sanitized daily.  INTERIOR OF COOLERS AND FAN VENT IN COOLER UNCLEAN,MUST DETAIL CLEAN | 34. FLOORS: CONSTRUCTED PER CODE, CLEANED, GOOD REPAIR, COVING INSTALLED, DUST-LESS CLEANING METHODS USED - Comments: The floors shall be constructed per code, be smooth and easily cleaned, and be kept clean and in good repair.  FLOOR UNDER AND BEHIND EQUIPMENT UNCLEAN,MUST CLEAN.  FLOOR IN DISHWASHING IN IN POOR REPAIR, MUST REGROUT. | 35. WALLS, CEILINGS, ATTACHED EQUIPMENT CONSTRUCTED PER CODE: GOOD REPAIR, SURFACES CLEAN AND DUST-LESS CLEANING METHODS - Comments: The walls and ceilings shall be in good repair and easily cleaned.  GREASY WALLS IN COOKING AREA MUST BE CLEAN;WALLS AROUND DISH AREA UNCLEAN,MUST CLEAN | 36. LIGHTING: REQUIRED MINIMUM FOOT-CANDLES OF LIGHT PROVIDED, FIXTURES SHIELDED - Comments: All rooms in which food or drink is prepared, or in which utensils are washed, shall be lighted so that a minimum of 50-foot candles of light is available on all work surfaces.  LIGHT FIXTURES IN PREP AREA WITH ACCUMULATED DUST ,MUST CLEAN;LIGHT WARMER FOR FOOD UNCLEAN AND BECOMING RUSTY MUST DETAIL CLEAN',\n",
       "  'Latitude': '42.008536400868735',\n",
       "  'Longitude': '-87.91442843927047',\n",
       "  'Location': '(-87.91442843927047, 42.008536400868735)'}]"
      ]
     },
     "execution_count": 43,
     "metadata": {},
     "output_type": "execute_result"
    }
   ],
   "source": [
    "inspections['34192']"
   ]
  },
  {
   "cell_type": "markdown",
   "id": "c7a19c5f",
   "metadata": {},
   "source": [
    "#### Get all Inspection Dates from the date set of License # = 34192."
   ]
  },
  {
   "cell_type": "code",
   "execution_count": 44,
   "id": "7795e2ee",
   "metadata": {},
   "outputs": [
    {
     "data": {
      "text/plain": [
       "['03/20/2020',\n",
       " '05/31/2018',\n",
       " '09/14/2018',\n",
       " '02/16/2017',\n",
       " '04/07/2016',\n",
       " '09/04/2014',\n",
       " '09/20/2011',\n",
       " '01/26/2010']"
      ]
     },
     "execution_count": 44,
     "metadata": {},
     "output_type": "execute_result"
    }
   ],
   "source": [
    "[row ['Inspection Date'] for row in inspections['34192']]"
   ]
  },
  {
   "cell_type": "markdown",
   "id": "df955439",
   "metadata": {},
   "source": [
    "### The question maybe now is What is the most common way that a place at ohare fails in an inspection. \n",
    "#### Firstly, we take a look at an example of the Violations data."
   ]
  },
  {
   "cell_type": "code",
   "execution_count": 45,
   "id": "13c8846f",
   "metadata": {},
   "outputs": [
    {
     "data": {
      "text/plain": [
       "{'Inspection ID': '1950490',\n",
       " 'DBA Name': 'REGGIOS PIZZA EXPRESS',\n",
       " 'AKA Name': \"REGGIO'S PIZZA EXPRESS (T3 G8)\",\n",
       " 'License #': '2428079',\n",
       " 'Facility Type': 'Restaurant',\n",
       " 'Risk': 'Risk 1 (High)',\n",
       " 'Address': '11601 W TOUHY AVE ',\n",
       " 'City': 'CHICAGO',\n",
       " 'State': 'IL',\n",
       " 'Zip': '60666',\n",
       " 'Inspection Date': '08/16/2016',\n",
       " 'Inspection Type': 'License',\n",
       " 'Results': 'Fail',\n",
       " 'Violations': '16. FOOD PROTECTED DURING STORAGE, PREPARATION, DISPLAY, SERVICE AND TRANSPORTATION - Comments: FOUND INTERIOR SURFACES OF ICE MACHINE IN REAR NOT CLEAN WITH PINK AND BLACK MOLD LIKE BUILD-UP. INSTRUCTED TO WASH, RINSE AND SANITIZE THE AFFECTED AREAS.  SERIOUS VIOLATION 7-38-005 (A) | 33. FOOD AND NON-FOOD CONTACT EQUIPMENT UTENSILS CLEAN, FREE OF ABRASIVE DETERGENTS - Comments: INSTRUCTED TO DETAIL CLEAN AND MAINTAIN INTERIOR SURFACES OF 2 DOOR PREP COOLER (BY EXPOSED HAND SINK). | 40. REFRIGERATION AND METAL STEM THERMOMETERS PROVIDED AND CONSPICUOUS - Comments: INSTRUCTED TO PROVIDE THERMOMETER VISIBLE AND ACCURATE INSIDE PIZZA HOT HOLDING UNIT.',\n",
       " 'Latitude': '42.008536400868735',\n",
       " 'Longitude': '-87.91442843927047',\n",
       " 'Location': '(-87.91442843927047, 42.008536400868735)'}"
      ]
     },
     "execution_count": 45,
     "metadata": {},
     "output_type": "execute_result"
    }
   ],
   "source": [
    "ohare[175]"
   ]
  },
  {
   "cell_type": "markdown",
   "id": "b2f81437",
   "metadata": {},
   "source": [
    "#### List out all of the different sections in Violations by decomposing the text."
   ]
  },
  {
   "cell_type": "code",
   "execution_count": 46,
   "id": "ab4aaae7",
   "metadata": {},
   "outputs": [
    {
     "data": {
      "text/plain": [
       "['16. FOOD PROTECTED DURING STORAGE, PREPARATION, DISPLAY, SERVICE AND TRANSPORTATION - Comments: FOUND INTERIOR SURFACES OF ICE MACHINE IN REAR NOT CLEAN WITH PINK AND BLACK MOLD LIKE BUILD-UP. INSTRUCTED TO WASH, RINSE AND SANITIZE THE AFFECTED AREAS.  SERIOUS VIOLATION 7-38-005 (A) ',\n",
       " ' 33. FOOD AND NON-FOOD CONTACT EQUIPMENT UTENSILS CLEAN, FREE OF ABRASIVE DETERGENTS - Comments: INSTRUCTED TO DETAIL CLEAN AND MAINTAIN INTERIOR SURFACES OF 2 DOOR PREP COOLER (BY EXPOSED HAND SINK). ',\n",
       " ' 40. REFRIGERATION AND METAL STEM THERMOMETERS PROVIDED AND CONSPICUOUS - Comments: INSTRUCTED TO PROVIDE THERMOMETER VISIBLE AND ACCURATE INSIDE PIZZA HOT HOLDING UNIT.']"
      ]
     },
     "execution_count": 46,
     "metadata": {},
     "output_type": "execute_result"
    }
   ],
   "source": [
    "ohare[175]['Violations'].split('|')"
   ]
  },
  {
   "cell_type": "markdown",
   "id": "7f01ca1c",
   "metadata": {},
   "source": [
    "#### Assign the result of the last expression to violations variable."
   ]
  },
  {
   "cell_type": "code",
   "execution_count": 47,
   "id": "46839a01",
   "metadata": {},
   "outputs": [],
   "source": [
    "violations = _"
   ]
  },
  {
   "cell_type": "code",
   "execution_count": 48,
   "id": "5c62f406",
   "metadata": {},
   "outputs": [
    {
     "data": {
      "text/plain": [
       "['16. FOOD PROTECTED DURING STORAGE, PREPARATION, DISPLAY, SERVICE AND TRANSPORTATION - Comments: FOUND INTERIOR SURFACES OF ICE MACHINE IN REAR NOT CLEAN WITH PINK AND BLACK MOLD LIKE BUILD-UP. INSTRUCTED TO WASH, RINSE AND SANITIZE THE AFFECTED AREAS.  SERIOUS VIOLATION 7-38-005 (A) ',\n",
       " ' 33. FOOD AND NON-FOOD CONTACT EQUIPMENT UTENSILS CLEAN, FREE OF ABRASIVE DETERGENTS - Comments: INSTRUCTED TO DETAIL CLEAN AND MAINTAIN INTERIOR SURFACES OF 2 DOOR PREP COOLER (BY EXPOSED HAND SINK). ',\n",
       " ' 40. REFRIGERATION AND METAL STEM THERMOMETERS PROVIDED AND CONSPICUOUS - Comments: INSTRUCTED TO PROVIDE THERMOMETER VISIBLE AND ACCURATE INSIDE PIZZA HOT HOLDING UNIT.']"
      ]
     },
     "execution_count": 48,
     "metadata": {},
     "output_type": "execute_result"
    }
   ],
   "source": [
    "violations"
   ]
  },
  {
   "cell_type": "markdown",
   "id": "59165746",
   "metadata": {},
   "source": [
    "#### Strip out all the text after '- Comments' from Violation sections."
   ]
  },
  {
   "cell_type": "code",
   "execution_count": 49,
   "id": "2ce0431c",
   "metadata": {},
   "outputs": [
    {
     "data": {
      "text/plain": [
       "['16. FOOD PROTECTED DURING STORAGE, PREPARATION, DISPLAY, SERVICE AND TRANSPORTATION ',\n",
       " ' 33. FOOD AND NON-FOOD CONTACT EQUIPMENT UTENSILS CLEAN, FREE OF ABRASIVE DETERGENTS ',\n",
       " ' 40. REFRIGERATION AND METAL STEM THERMOMETERS PROVIDED AND CONSPICUOUS ']"
      ]
     },
     "execution_count": 49,
     "metadata": {},
     "output_type": "execute_result"
    }
   ],
   "source": [
    "[v[:v.find('- Comments:')] for v in violations]"
   ]
  },
  {
   "cell_type": "markdown",
   "id": "04521588",
   "metadata": {},
   "source": [
    "#### Strip out the comment part and white space from Violation sections."
   ]
  },
  {
   "cell_type": "code",
   "execution_count": 50,
   "id": "2af1be5d",
   "metadata": {},
   "outputs": [
    {
     "data": {
      "text/plain": [
       "['16. FOOD PROTECTED DURING STORAGE, PREPARATION, DISPLAY, SERVICE AND TRANSPORTATION',\n",
       " '33. FOOD AND NON-FOOD CONTACT EQUIPMENT UTENSILS CLEAN, FREE OF ABRASIVE DETERGENTS',\n",
       " '40. REFRIGERATION AND METAL STEM THERMOMETERS PROVIDED AND CONSPICUOUS']"
      ]
     },
     "execution_count": 50,
     "metadata": {},
     "output_type": "execute_result"
    }
   ],
   "source": [
    "[v[:v.find('- Comments:')].strip() for v in violations]"
   ]
  },
  {
   "cell_type": "markdown",
   "id": "6f2159b7",
   "metadata": {},
   "source": [
    "#### Next, we could get all Violation sections splitted by '|' in ohare."
   ]
  },
  {
   "cell_type": "code",
   "execution_count": 51,
   "id": "012791a2",
   "metadata": {},
   "outputs": [],
   "source": [
    "all_violations = [row['Violations'].split('|') for row in ohare]"
   ]
  },
  {
   "cell_type": "markdown",
   "id": "7fd5904f",
   "metadata": {},
   "source": [
    "#### Then, we count all rows in ohare by Violations with comments stripped out."
   ]
  },
  {
   "cell_type": "code",
   "execution_count": 52,
   "id": "13b4fdcd",
   "metadata": {},
   "outputs": [],
   "source": [
    "c = Counter()"
   ]
  },
  {
   "cell_type": "code",
   "execution_count": 53,
   "id": "d47e016f",
   "metadata": {},
   "outputs": [],
   "source": [
    "for violations in all_violations:\n",
    "    for v in violations:\n",
    "        c[v[:v.find('- Comments:')].strip()] +=1"
   ]
  },
  {
   "cell_type": "markdown",
   "id": "828a9aca",
   "metadata": {},
   "source": [
    "### Finally, we find out what are the most common violations in ohare."
   ]
  },
  {
   "cell_type": "code",
   "execution_count": 54,
   "id": "8597e040",
   "metadata": {},
   "outputs": [
    {
     "data": {
      "text/plain": [
       "[('34. FLOORS: CONSTRUCTED PER CODE, CLEANED, GOOD REPAIR, COVING INSTALLED, DUST-LESS CLEANING METHODS USED',\n",
       "  166),\n",
       " ('33. FOOD AND NON-FOOD CONTACT EQUIPMENT UTENSILS CLEAN, FREE OF ABRASIVE DETERGENTS',\n",
       "  158),\n",
       " ('35. WALLS, CEILINGS, ATTACHED EQUIPMENT CONSTRUCTED PER CODE: GOOD REPAIR, SURFACES CLEAN AND DUST-LESS CLEANING METHODS',\n",
       "  139),\n",
       " ('18. NO EVIDENCE OF RODENT OR INSECT OUTER OPENINGS PROTECTED/RODENT PROOFED, A WRITTEN LOG SHALL BE MAINTAINED AVAILABLE TO THE INSPECTORS',\n",
       "  118),\n",
       " ('32. FOOD AND NON-FOOD CONTACT SURFACES PROPERLY DESIGNED, CONSTRUCTED AND MAINTAINED',\n",
       "  114)]"
      ]
     },
     "execution_count": 54,
     "metadata": {},
     "output_type": "execute_result"
    }
   ],
   "source": [
    "c.most_common(5)"
   ]
  }
 ],
 "metadata": {
  "kernelspec": {
   "display_name": "Python 3 (ipykernel)",
   "language": "python",
   "name": "python3"
  },
  "language_info": {
   "codemirror_mode": {
    "name": "ipython",
    "version": 3
   },
   "file_extension": ".py",
   "mimetype": "text/x-python",
   "name": "python",
   "nbconvert_exporter": "python",
   "pygments_lexer": "ipython3",
   "version": "3.9.7"
  }
 },
 "nbformat": 4,
 "nbformat_minor": 5
}
